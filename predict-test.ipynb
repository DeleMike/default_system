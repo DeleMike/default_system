{
 "cells": [
  {
   "cell_type": "code",
   "execution_count": 1,
   "id": "6de957fa",
   "metadata": {},
   "outputs": [],
   "source": [
    "import requests"
   ]
  },
  {
   "cell_type": "code",
   "execution_count": 3,
   "id": "47a3b85b",
   "metadata": {},
   "outputs": [],
   "source": [
    "url = 'http://localhost:9696/predict'"
   ]
  },
  {
   "cell_type": "code",
   "execution_count": 4,
   "id": "547071a0",
   "metadata": {},
   "outputs": [],
   "source": [
    "customer = {'sex': 'female',\n",
    " 'education': 'secondary',\n",
    " 'marriage': 'single',\n",
    " 'pay_0': 'two_month_late',\n",
    " 'pay_2': 'two_month_late',\n",
    " 'pay_3': 'two_month_late',\n",
    " 'pay_4': 'three_month_late',\n",
    " 'pay_5': 'one_month_late',\n",
    " 'pay_6': 'two_month_late',\n",
    " 'limit_bal': 100000,\n",
    " 'age': 26,\n",
    " 'bill_amt1': 107643,\n",
    " 'bill_amt2': 109895,\n",
    " 'bill_amt3': 93420,\n",
    " 'bill_amt4': 73119,\n",
    " 'bill_amt5': 73642,\n",
    " 'bill_amt6': 71579,\n",
    " 'pay_amt1': 4048,\n",
    " 'pay_amt2': 3105,\n",
    " 'pay_amt3': 2700,\n",
    " 'pay_amt4': 2510,\n",
    " 'pay_amt5': 2703,\n",
    " 'pay_amt6': 2700}"
   ]
  },
  {
   "cell_type": "code",
   "execution_count": 7,
   "id": "e903c39f",
   "metadata": {},
   "outputs": [
    {
     "data": {
      "text/plain": [
       "{'default': False, 'default_probabilty': 0.3217624058830759}"
      ]
     },
     "execution_count": 7,
     "metadata": {},
     "output_type": "execute_result"
    }
   ],
   "source": [
    "response = requests.post(url, json=customer).json()\n",
    "response"
   ]
  },
  {
   "cell_type": "code",
   "execution_count": null,
   "id": "9b1903a5",
   "metadata": {},
   "outputs": [],
   "source": []
  }
 ],
 "metadata": {
  "kernelspec": {
   "display_name": "Python 3 (ipykernel)",
   "language": "python",
   "name": "python3"
  },
  "language_info": {
   "codemirror_mode": {
    "name": "ipython",
    "version": 3
   },
   "file_extension": ".py",
   "mimetype": "text/x-python",
   "name": "python",
   "nbconvert_exporter": "python",
   "pygments_lexer": "ipython3",
   "version": "3.7.9"
  }
 },
 "nbformat": 4,
 "nbformat_minor": 5
}
