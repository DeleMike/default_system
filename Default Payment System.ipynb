{
 "cells": [
  {
   "cell_type": "markdown",
   "id": "936cd900",
   "metadata": {},
   "source": [
    "# Default Payment System\n",
    "to check if a customer will pay her bills next month\n",
    "\n",
    "\n",
    "This is a practice project. I peformed some ml learing tecniques with the knowledge I have gained over the three chapters of ML Zoomcamp. Everything here is my opinion and I am very open to corrections."
   ]
  },
  {
   "cell_type": "code",
   "execution_count": 9,
   "id": "5e1d51a8",
   "metadata": {},
   "outputs": [],
   "source": [
    "# import necessary libraries\n",
    "%matplotlib inline\n",
    "\n",
    "import pandas as pd\n",
    "import numpy as np\n",
    "import matplotlib.pyplot as plt\n",
    "import seaborn as sns\n",
    "from sklearn.model_selection import train_test_split\n",
    "from sklearn.metrics import roc_auc_score\n",
    "from sklearn.metrics import roc_curve\n",
    "from sklearn.feature_extraction import DictVectorizer\n",
    "from sklearn.linear_model import LogisticRegression\n",
    "from sklearn.metrics import accuracy_score\n",
    "from collections import Counter"
   ]
  },
  {
   "cell_type": "code",
   "execution_count": 10,
   "id": "95f99155",
   "metadata": {},
   "outputs": [],
   "source": [
    "# !pip install xlrd -- install this library if not on machine! then you can comment it out again\n",
    "df = pd.read_excel('default_of_credit_card_clients.xls', header=1)"
   ]
  },
  {
   "cell_type": "code",
   "execution_count": 11,
   "id": "8260df77",
   "metadata": {},
   "outputs": [
    {
     "data": {
      "text/html": [
       "<div>\n",
       "<style scoped>\n",
       "    .dataframe tbody tr th:only-of-type {\n",
       "        vertical-align: middle;\n",
       "    }\n",
       "\n",
       "    .dataframe tbody tr th {\n",
       "        vertical-align: top;\n",
       "    }\n",
       "\n",
       "    .dataframe thead th {\n",
       "        text-align: right;\n",
       "    }\n",
       "</style>\n",
       "<table border=\"1\" class=\"dataframe\">\n",
       "  <thead>\n",
       "    <tr style=\"text-align: right;\">\n",
       "      <th></th>\n",
       "      <th>0</th>\n",
       "      <th>1</th>\n",
       "      <th>2</th>\n",
       "      <th>3</th>\n",
       "      <th>4</th>\n",
       "    </tr>\n",
       "  </thead>\n",
       "  <tbody>\n",
       "    <tr>\n",
       "      <th>ID</th>\n",
       "      <td>1</td>\n",
       "      <td>2</td>\n",
       "      <td>3</td>\n",
       "      <td>4</td>\n",
       "      <td>5</td>\n",
       "    </tr>\n",
       "    <tr>\n",
       "      <th>LIMIT_BAL</th>\n",
       "      <td>20000</td>\n",
       "      <td>120000</td>\n",
       "      <td>90000</td>\n",
       "      <td>50000</td>\n",
       "      <td>50000</td>\n",
       "    </tr>\n",
       "    <tr>\n",
       "      <th>SEX</th>\n",
       "      <td>2</td>\n",
       "      <td>2</td>\n",
       "      <td>2</td>\n",
       "      <td>2</td>\n",
       "      <td>1</td>\n",
       "    </tr>\n",
       "    <tr>\n",
       "      <th>EDUCATION</th>\n",
       "      <td>2</td>\n",
       "      <td>2</td>\n",
       "      <td>2</td>\n",
       "      <td>2</td>\n",
       "      <td>2</td>\n",
       "    </tr>\n",
       "    <tr>\n",
       "      <th>MARRIAGE</th>\n",
       "      <td>1</td>\n",
       "      <td>2</td>\n",
       "      <td>2</td>\n",
       "      <td>1</td>\n",
       "      <td>1</td>\n",
       "    </tr>\n",
       "    <tr>\n",
       "      <th>AGE</th>\n",
       "      <td>24</td>\n",
       "      <td>26</td>\n",
       "      <td>34</td>\n",
       "      <td>37</td>\n",
       "      <td>57</td>\n",
       "    </tr>\n",
       "    <tr>\n",
       "      <th>PAY_0</th>\n",
       "      <td>2</td>\n",
       "      <td>-1</td>\n",
       "      <td>0</td>\n",
       "      <td>0</td>\n",
       "      <td>-1</td>\n",
       "    </tr>\n",
       "    <tr>\n",
       "      <th>PAY_2</th>\n",
       "      <td>2</td>\n",
       "      <td>2</td>\n",
       "      <td>0</td>\n",
       "      <td>0</td>\n",
       "      <td>0</td>\n",
       "    </tr>\n",
       "    <tr>\n",
       "      <th>PAY_3</th>\n",
       "      <td>-1</td>\n",
       "      <td>0</td>\n",
       "      <td>0</td>\n",
       "      <td>0</td>\n",
       "      <td>-1</td>\n",
       "    </tr>\n",
       "    <tr>\n",
       "      <th>PAY_4</th>\n",
       "      <td>-1</td>\n",
       "      <td>0</td>\n",
       "      <td>0</td>\n",
       "      <td>0</td>\n",
       "      <td>0</td>\n",
       "    </tr>\n",
       "    <tr>\n",
       "      <th>PAY_5</th>\n",
       "      <td>-2</td>\n",
       "      <td>0</td>\n",
       "      <td>0</td>\n",
       "      <td>0</td>\n",
       "      <td>0</td>\n",
       "    </tr>\n",
       "    <tr>\n",
       "      <th>PAY_6</th>\n",
       "      <td>-2</td>\n",
       "      <td>2</td>\n",
       "      <td>0</td>\n",
       "      <td>0</td>\n",
       "      <td>0</td>\n",
       "    </tr>\n",
       "    <tr>\n",
       "      <th>BILL_AMT1</th>\n",
       "      <td>3913</td>\n",
       "      <td>2682</td>\n",
       "      <td>29239</td>\n",
       "      <td>46990</td>\n",
       "      <td>8617</td>\n",
       "    </tr>\n",
       "    <tr>\n",
       "      <th>BILL_AMT2</th>\n",
       "      <td>3102</td>\n",
       "      <td>1725</td>\n",
       "      <td>14027</td>\n",
       "      <td>48233</td>\n",
       "      <td>5670</td>\n",
       "    </tr>\n",
       "    <tr>\n",
       "      <th>BILL_AMT3</th>\n",
       "      <td>689</td>\n",
       "      <td>2682</td>\n",
       "      <td>13559</td>\n",
       "      <td>49291</td>\n",
       "      <td>35835</td>\n",
       "    </tr>\n",
       "    <tr>\n",
       "      <th>BILL_AMT4</th>\n",
       "      <td>0</td>\n",
       "      <td>3272</td>\n",
       "      <td>14331</td>\n",
       "      <td>28314</td>\n",
       "      <td>20940</td>\n",
       "    </tr>\n",
       "    <tr>\n",
       "      <th>BILL_AMT5</th>\n",
       "      <td>0</td>\n",
       "      <td>3455</td>\n",
       "      <td>14948</td>\n",
       "      <td>28959</td>\n",
       "      <td>19146</td>\n",
       "    </tr>\n",
       "    <tr>\n",
       "      <th>BILL_AMT6</th>\n",
       "      <td>0</td>\n",
       "      <td>3261</td>\n",
       "      <td>15549</td>\n",
       "      <td>29547</td>\n",
       "      <td>19131</td>\n",
       "    </tr>\n",
       "    <tr>\n",
       "      <th>PAY_AMT1</th>\n",
       "      <td>0</td>\n",
       "      <td>0</td>\n",
       "      <td>1518</td>\n",
       "      <td>2000</td>\n",
       "      <td>2000</td>\n",
       "    </tr>\n",
       "    <tr>\n",
       "      <th>PAY_AMT2</th>\n",
       "      <td>689</td>\n",
       "      <td>1000</td>\n",
       "      <td>1500</td>\n",
       "      <td>2019</td>\n",
       "      <td>36681</td>\n",
       "    </tr>\n",
       "    <tr>\n",
       "      <th>PAY_AMT3</th>\n",
       "      <td>0</td>\n",
       "      <td>1000</td>\n",
       "      <td>1000</td>\n",
       "      <td>1200</td>\n",
       "      <td>10000</td>\n",
       "    </tr>\n",
       "    <tr>\n",
       "      <th>PAY_AMT4</th>\n",
       "      <td>0</td>\n",
       "      <td>1000</td>\n",
       "      <td>1000</td>\n",
       "      <td>1100</td>\n",
       "      <td>9000</td>\n",
       "    </tr>\n",
       "    <tr>\n",
       "      <th>PAY_AMT5</th>\n",
       "      <td>0</td>\n",
       "      <td>0</td>\n",
       "      <td>1000</td>\n",
       "      <td>1069</td>\n",
       "      <td>689</td>\n",
       "    </tr>\n",
       "    <tr>\n",
       "      <th>PAY_AMT6</th>\n",
       "      <td>0</td>\n",
       "      <td>2000</td>\n",
       "      <td>5000</td>\n",
       "      <td>1000</td>\n",
       "      <td>679</td>\n",
       "    </tr>\n",
       "    <tr>\n",
       "      <th>default payment next month</th>\n",
       "      <td>1</td>\n",
       "      <td>1</td>\n",
       "      <td>0</td>\n",
       "      <td>0</td>\n",
       "      <td>0</td>\n",
       "    </tr>\n",
       "  </tbody>\n",
       "</table>\n",
       "</div>"
      ],
      "text/plain": [
       "                                0       1      2      3      4\n",
       "ID                              1       2      3      4      5\n",
       "LIMIT_BAL                   20000  120000  90000  50000  50000\n",
       "SEX                             2       2      2      2      1\n",
       "EDUCATION                       2       2      2      2      2\n",
       "MARRIAGE                        1       2      2      1      1\n",
       "AGE                            24      26     34     37     57\n",
       "PAY_0                           2      -1      0      0     -1\n",
       "PAY_2                           2       2      0      0      0\n",
       "PAY_3                          -1       0      0      0     -1\n",
       "PAY_4                          -1       0      0      0      0\n",
       "PAY_5                          -2       0      0      0      0\n",
       "PAY_6                          -2       2      0      0      0\n",
       "BILL_AMT1                    3913    2682  29239  46990   8617\n",
       "BILL_AMT2                    3102    1725  14027  48233   5670\n",
       "BILL_AMT3                     689    2682  13559  49291  35835\n",
       "BILL_AMT4                       0    3272  14331  28314  20940\n",
       "BILL_AMT5                       0    3455  14948  28959  19146\n",
       "BILL_AMT6                       0    3261  15549  29547  19131\n",
       "PAY_AMT1                        0       0   1518   2000   2000\n",
       "PAY_AMT2                      689    1000   1500   2019  36681\n",
       "PAY_AMT3                        0    1000   1000   1200  10000\n",
       "PAY_AMT4                        0    1000   1000   1100   9000\n",
       "PAY_AMT5                        0       0   1000   1069    689\n",
       "PAY_AMT6                        0    2000   5000   1000    679\n",
       "default payment next month      1       1      0      0      0"
      ]
     },
     "execution_count": 11,
     "metadata": {},
     "output_type": "execute_result"
    }
   ],
   "source": [
    "# viewing the head\n",
    "df.head().T"
   ]
  },
  {
   "cell_type": "code",
   "execution_count": 12,
   "id": "437bfacd",
   "metadata": {},
   "outputs": [],
   "source": [
    "df.columns = df.columns.str.lower().str.replace(' ', '_')"
   ]
  },
  {
   "cell_type": "code",
   "execution_count": 13,
   "id": "7738c88f",
   "metadata": {},
   "outputs": [
    {
     "data": {
      "text/html": [
       "<div>\n",
       "<style scoped>\n",
       "    .dataframe tbody tr th:only-of-type {\n",
       "        vertical-align: middle;\n",
       "    }\n",
       "\n",
       "    .dataframe tbody tr th {\n",
       "        vertical-align: top;\n",
       "    }\n",
       "\n",
       "    .dataframe thead th {\n",
       "        text-align: right;\n",
       "    }\n",
       "</style>\n",
       "<table border=\"1\" class=\"dataframe\">\n",
       "  <thead>\n",
       "    <tr style=\"text-align: right;\">\n",
       "      <th></th>\n",
       "      <th>id</th>\n",
       "      <th>limit_bal</th>\n",
       "      <th>sex</th>\n",
       "      <th>education</th>\n",
       "      <th>marriage</th>\n",
       "      <th>age</th>\n",
       "      <th>pay_0</th>\n",
       "      <th>pay_2</th>\n",
       "      <th>pay_3</th>\n",
       "      <th>pay_4</th>\n",
       "      <th>...</th>\n",
       "      <th>bill_amt4</th>\n",
       "      <th>bill_amt5</th>\n",
       "      <th>bill_amt6</th>\n",
       "      <th>pay_amt1</th>\n",
       "      <th>pay_amt2</th>\n",
       "      <th>pay_amt3</th>\n",
       "      <th>pay_amt4</th>\n",
       "      <th>pay_amt5</th>\n",
       "      <th>pay_amt6</th>\n",
       "      <th>default_payment_next_month</th>\n",
       "    </tr>\n",
       "  </thead>\n",
       "  <tbody>\n",
       "    <tr>\n",
       "      <th>0</th>\n",
       "      <td>1</td>\n",
       "      <td>20000</td>\n",
       "      <td>2</td>\n",
       "      <td>2</td>\n",
       "      <td>1</td>\n",
       "      <td>24</td>\n",
       "      <td>2</td>\n",
       "      <td>2</td>\n",
       "      <td>-1</td>\n",
       "      <td>-1</td>\n",
       "      <td>...</td>\n",
       "      <td>0</td>\n",
       "      <td>0</td>\n",
       "      <td>0</td>\n",
       "      <td>0</td>\n",
       "      <td>689</td>\n",
       "      <td>0</td>\n",
       "      <td>0</td>\n",
       "      <td>0</td>\n",
       "      <td>0</td>\n",
       "      <td>1</td>\n",
       "    </tr>\n",
       "    <tr>\n",
       "      <th>1</th>\n",
       "      <td>2</td>\n",
       "      <td>120000</td>\n",
       "      <td>2</td>\n",
       "      <td>2</td>\n",
       "      <td>2</td>\n",
       "      <td>26</td>\n",
       "      <td>-1</td>\n",
       "      <td>2</td>\n",
       "      <td>0</td>\n",
       "      <td>0</td>\n",
       "      <td>...</td>\n",
       "      <td>3272</td>\n",
       "      <td>3455</td>\n",
       "      <td>3261</td>\n",
       "      <td>0</td>\n",
       "      <td>1000</td>\n",
       "      <td>1000</td>\n",
       "      <td>1000</td>\n",
       "      <td>0</td>\n",
       "      <td>2000</td>\n",
       "      <td>1</td>\n",
       "    </tr>\n",
       "    <tr>\n",
       "      <th>2</th>\n",
       "      <td>3</td>\n",
       "      <td>90000</td>\n",
       "      <td>2</td>\n",
       "      <td>2</td>\n",
       "      <td>2</td>\n",
       "      <td>34</td>\n",
       "      <td>0</td>\n",
       "      <td>0</td>\n",
       "      <td>0</td>\n",
       "      <td>0</td>\n",
       "      <td>...</td>\n",
       "      <td>14331</td>\n",
       "      <td>14948</td>\n",
       "      <td>15549</td>\n",
       "      <td>1518</td>\n",
       "      <td>1500</td>\n",
       "      <td>1000</td>\n",
       "      <td>1000</td>\n",
       "      <td>1000</td>\n",
       "      <td>5000</td>\n",
       "      <td>0</td>\n",
       "    </tr>\n",
       "    <tr>\n",
       "      <th>3</th>\n",
       "      <td>4</td>\n",
       "      <td>50000</td>\n",
       "      <td>2</td>\n",
       "      <td>2</td>\n",
       "      <td>1</td>\n",
       "      <td>37</td>\n",
       "      <td>0</td>\n",
       "      <td>0</td>\n",
       "      <td>0</td>\n",
       "      <td>0</td>\n",
       "      <td>...</td>\n",
       "      <td>28314</td>\n",
       "      <td>28959</td>\n",
       "      <td>29547</td>\n",
       "      <td>2000</td>\n",
       "      <td>2019</td>\n",
       "      <td>1200</td>\n",
       "      <td>1100</td>\n",
       "      <td>1069</td>\n",
       "      <td>1000</td>\n",
       "      <td>0</td>\n",
       "    </tr>\n",
       "    <tr>\n",
       "      <th>4</th>\n",
       "      <td>5</td>\n",
       "      <td>50000</td>\n",
       "      <td>1</td>\n",
       "      <td>2</td>\n",
       "      <td>1</td>\n",
       "      <td>57</td>\n",
       "      <td>-1</td>\n",
       "      <td>0</td>\n",
       "      <td>-1</td>\n",
       "      <td>0</td>\n",
       "      <td>...</td>\n",
       "      <td>20940</td>\n",
       "      <td>19146</td>\n",
       "      <td>19131</td>\n",
       "      <td>2000</td>\n",
       "      <td>36681</td>\n",
       "      <td>10000</td>\n",
       "      <td>9000</td>\n",
       "      <td>689</td>\n",
       "      <td>679</td>\n",
       "      <td>0</td>\n",
       "    </tr>\n",
       "  </tbody>\n",
       "</table>\n",
       "<p>5 rows × 25 columns</p>\n",
       "</div>"
      ],
      "text/plain": [
       "   id  limit_bal  sex  education  marriage  age  pay_0  pay_2  pay_3  pay_4  \\\n",
       "0   1      20000    2          2         1   24      2      2     -1     -1   \n",
       "1   2     120000    2          2         2   26     -1      2      0      0   \n",
       "2   3      90000    2          2         2   34      0      0      0      0   \n",
       "3   4      50000    2          2         1   37      0      0      0      0   \n",
       "4   5      50000    1          2         1   57     -1      0     -1      0   \n",
       "\n",
       "   ...  bill_amt4  bill_amt5  bill_amt6  pay_amt1  pay_amt2  pay_amt3  \\\n",
       "0  ...          0          0          0         0       689         0   \n",
       "1  ...       3272       3455       3261         0      1000      1000   \n",
       "2  ...      14331      14948      15549      1518      1500      1000   \n",
       "3  ...      28314      28959      29547      2000      2019      1200   \n",
       "4  ...      20940      19146      19131      2000     36681     10000   \n",
       "\n",
       "   pay_amt4  pay_amt5  pay_amt6  default_payment_next_month  \n",
       "0         0         0         0                           1  \n",
       "1      1000         0      2000                           1  \n",
       "2      1000      1000      5000                           0  \n",
       "3      1100      1069      1000                           0  \n",
       "4      9000       689       679                           0  \n",
       "\n",
       "[5 rows x 25 columns]"
      ]
     },
     "execution_count": 13,
     "metadata": {},
     "output_type": "execute_result"
    }
   ],
   "source": [
    "df.head()"
   ]
  },
  {
   "cell_type": "code",
   "execution_count": 14,
   "id": "152d9854",
   "metadata": {},
   "outputs": [],
   "source": [
    "default_payment_next_month_values = {\n",
    "    0: 'ok',\n",
    "    1: 'default'\n",
    "}\n",
    "df.default_payment_next_month = df.default_payment_next_month.map(default_payment_next_month_values)\n",
    "\n",
    "sex_values = {\n",
    "    1: 'female',\n",
    "    2: 'male',\n",
    "    0: 'unk'\n",
    "}\n",
    "\n",
    "df.sex = df.sex.map(sex_values)\n",
    "\n",
    "\n",
    "education_values = {\n",
    "    1: 'graduate_school',\n",
    "    2: 'university',\n",
    "    3: 'secondary',\n",
    "    4: 'primary',\n",
    "    5: 'vocational',\n",
    "    6: 'others',\n",
    "    0: 'unk'\n",
    "}\n",
    "\n",
    "df.education = df.education.map(education_values)\n",
    "\n",
    "marital_values = {\n",
    "    1: 'married',\n",
    "    2: 'single',\n",
    "    3: 'others',\n",
    "    0: 'unk'\n",
    "}\n",
    "\n",
    "df.marriage = df.marriage.map(marital_values)\n",
    "\n",
    "pay_0_values = {\n",
    "    -2: 'one_month_early',\n",
    "    -1: 'duly',\n",
    "    1: 'one_month_late',\n",
    "    2: 'two_month_late',\n",
    "    3: 'three_month_late',\n",
    "    4: 'four_month_late',\n",
    "    5: 'five_month_late',\n",
    "    6: 'six_month_late',\n",
    "    7: 'seven_month_late',\n",
    "    0: 'unk'\n",
    "}\n",
    "\n",
    "df.pay_0 = df.pay_0.map(pay_0_values)\n",
    "\n",
    "pay_2_values = {\n",
    "    -2: 'one_month_early',\n",
    "    -1: 'duly',\n",
    "    1: 'one_month_late',\n",
    "    2: 'two_month_late',\n",
    "    3: 'three_month_late',\n",
    "    4: 'four_month_late',\n",
    "    5: 'five_month_late',\n",
    "    6: 'six_month_late',\n",
    "    7: 'seven_month_late',\n",
    "    0: 'unk'\n",
    "}\n",
    "df.pay_2 = df.pay_2.map(pay_2_values)\n",
    "\n",
    "pay_3_values = {\n",
    "    -2: 'one_month_early',\n",
    "    -1: 'duly',\n",
    "    1: 'one_month_late',\n",
    "    2: 'two_month_late',\n",
    "    3: 'three_month_late',\n",
    "    4: 'four_month_late',\n",
    "    5: 'five_month_late',\n",
    "    6: 'six_month_late',\n",
    "    7: 'seven_month_late',\n",
    "    0: 'unk'\n",
    "}\n",
    "df.pay_3 = df.pay_3.map(pay_3_values)\n",
    "\n",
    "pay_4_values = {\n",
    "    -2: 'one_month_early',\n",
    "    -1: 'duly',\n",
    "    1: 'one_month_late',\n",
    "    2: 'two_month_late',\n",
    "    3: 'three_month_late',\n",
    "    4: 'four_month_late',\n",
    "    5: 'five_month_late',\n",
    "    6: 'six_month_late',\n",
    "    7: 'seven_month_late',\n",
    "    0: 'unk'\n",
    "}\n",
    "df.pay_4 = df.pay_4.map(pay_4_values)\n",
    "\n",
    "pay_5_values = {\n",
    "    -2: 'one_month_early',\n",
    "    -1: 'duly',\n",
    "    1: 'one_month_late',\n",
    "    2: 'two_month_late',\n",
    "    3: 'three_month_late',\n",
    "    4: 'four_month_late',\n",
    "    5: 'five_month_late',\n",
    "    6: 'six_month_late',\n",
    "    7: 'seven_month_late',\n",
    "    0: 'unk'\n",
    "}\n",
    "df.pay_5 = df.pay_5.map(pay_5_values)\n",
    "\n",
    "pay_6_values = {\n",
    "    -2: 'one_month_early',\n",
    "    -1: 'duly',\n",
    "    1: 'one_month_late',\n",
    "    2: 'two_month_late',\n",
    "    3: 'three_month_late',\n",
    "    4: 'four_month_late',\n",
    "    5: 'five_month_late',\n",
    "    6: 'six_month_late',\n",
    "    7: 'seven_month_late',\n",
    "    0: 'unk'\n",
    "}\n",
    "df.pay_6 = df.pay_6.map(pay_6_values)\n"
   ]
  },
  {
   "cell_type": "code",
   "execution_count": 15,
   "id": "0449a266",
   "metadata": {},
   "outputs": [],
   "source": [
    "df = df[df.default_payment_next_month != 'unk'].reset_index(drop=True)"
   ]
  },
  {
   "cell_type": "code",
   "execution_count": 16,
   "id": "6988cb76",
   "metadata": {},
   "outputs": [
    {
     "data": {
      "text/html": [
       "<div>\n",
       "<style scoped>\n",
       "    .dataframe tbody tr th:only-of-type {\n",
       "        vertical-align: middle;\n",
       "    }\n",
       "\n",
       "    .dataframe tbody tr th {\n",
       "        vertical-align: top;\n",
       "    }\n",
       "\n",
       "    .dataframe thead th {\n",
       "        text-align: right;\n",
       "    }\n",
       "</style>\n",
       "<table border=\"1\" class=\"dataframe\">\n",
       "  <thead>\n",
       "    <tr style=\"text-align: right;\">\n",
       "      <th></th>\n",
       "      <th>id</th>\n",
       "      <th>limit_bal</th>\n",
       "      <th>sex</th>\n",
       "      <th>education</th>\n",
       "      <th>marriage</th>\n",
       "      <th>age</th>\n",
       "      <th>pay_0</th>\n",
       "      <th>pay_2</th>\n",
       "      <th>pay_3</th>\n",
       "      <th>pay_4</th>\n",
       "      <th>...</th>\n",
       "      <th>bill_amt4</th>\n",
       "      <th>bill_amt5</th>\n",
       "      <th>bill_amt6</th>\n",
       "      <th>pay_amt1</th>\n",
       "      <th>pay_amt2</th>\n",
       "      <th>pay_amt3</th>\n",
       "      <th>pay_amt4</th>\n",
       "      <th>pay_amt5</th>\n",
       "      <th>pay_amt6</th>\n",
       "      <th>default_payment_next_month</th>\n",
       "    </tr>\n",
       "  </thead>\n",
       "  <tbody>\n",
       "    <tr>\n",
       "      <th>0</th>\n",
       "      <td>1</td>\n",
       "      <td>20000</td>\n",
       "      <td>male</td>\n",
       "      <td>university</td>\n",
       "      <td>married</td>\n",
       "      <td>24</td>\n",
       "      <td>two_month_late</td>\n",
       "      <td>two_month_late</td>\n",
       "      <td>duly</td>\n",
       "      <td>duly</td>\n",
       "      <td>...</td>\n",
       "      <td>0</td>\n",
       "      <td>0</td>\n",
       "      <td>0</td>\n",
       "      <td>0</td>\n",
       "      <td>689</td>\n",
       "      <td>0</td>\n",
       "      <td>0</td>\n",
       "      <td>0</td>\n",
       "      <td>0</td>\n",
       "      <td>default</td>\n",
       "    </tr>\n",
       "    <tr>\n",
       "      <th>1</th>\n",
       "      <td>2</td>\n",
       "      <td>120000</td>\n",
       "      <td>male</td>\n",
       "      <td>university</td>\n",
       "      <td>single</td>\n",
       "      <td>26</td>\n",
       "      <td>duly</td>\n",
       "      <td>two_month_late</td>\n",
       "      <td>unk</td>\n",
       "      <td>unk</td>\n",
       "      <td>...</td>\n",
       "      <td>3272</td>\n",
       "      <td>3455</td>\n",
       "      <td>3261</td>\n",
       "      <td>0</td>\n",
       "      <td>1000</td>\n",
       "      <td>1000</td>\n",
       "      <td>1000</td>\n",
       "      <td>0</td>\n",
       "      <td>2000</td>\n",
       "      <td>default</td>\n",
       "    </tr>\n",
       "  </tbody>\n",
       "</table>\n",
       "<p>2 rows × 25 columns</p>\n",
       "</div>"
      ],
      "text/plain": [
       "   id  limit_bal   sex   education marriage  age           pay_0  \\\n",
       "0   1      20000  male  university  married   24  two_month_late   \n",
       "1   2     120000  male  university   single   26            duly   \n",
       "\n",
       "            pay_2 pay_3 pay_4  ... bill_amt4 bill_amt5  bill_amt6  pay_amt1  \\\n",
       "0  two_month_late  duly  duly  ...         0         0          0         0   \n",
       "1  two_month_late   unk   unk  ...      3272      3455       3261         0   \n",
       "\n",
       "   pay_amt2  pay_amt3  pay_amt4  pay_amt5  pay_amt6  \\\n",
       "0       689         0         0         0         0   \n",
       "1      1000      1000      1000         0      2000   \n",
       "\n",
       "   default_payment_next_month  \n",
       "0                     default  \n",
       "1                     default  \n",
       "\n",
       "[2 rows x 25 columns]"
      ]
     },
     "execution_count": 16,
     "metadata": {},
     "output_type": "execute_result"
    }
   ],
   "source": [
    "df.head(2)"
   ]
  },
  {
   "cell_type": "code",
   "execution_count": 17,
   "id": "8122000f",
   "metadata": {},
   "outputs": [
    {
     "data": {
      "text/html": [
       "<div>\n",
       "<style scoped>\n",
       "    .dataframe tbody tr th:only-of-type {\n",
       "        vertical-align: middle;\n",
       "    }\n",
       "\n",
       "    .dataframe tbody tr th {\n",
       "        vertical-align: top;\n",
       "    }\n",
       "\n",
       "    .dataframe thead th {\n",
       "        text-align: right;\n",
       "    }\n",
       "</style>\n",
       "<table border=\"1\" class=\"dataframe\">\n",
       "  <thead>\n",
       "    <tr style=\"text-align: right;\">\n",
       "      <th></th>\n",
       "      <th>limit_bal</th>\n",
       "      <th>sex</th>\n",
       "      <th>education</th>\n",
       "      <th>marriage</th>\n",
       "      <th>age</th>\n",
       "      <th>pay_0</th>\n",
       "      <th>pay_2</th>\n",
       "      <th>pay_3</th>\n",
       "      <th>pay_4</th>\n",
       "      <th>pay_5</th>\n",
       "      <th>...</th>\n",
       "      <th>bill_amt4</th>\n",
       "      <th>bill_amt5</th>\n",
       "      <th>bill_amt6</th>\n",
       "      <th>pay_amt1</th>\n",
       "      <th>pay_amt2</th>\n",
       "      <th>pay_amt3</th>\n",
       "      <th>pay_amt4</th>\n",
       "      <th>pay_amt5</th>\n",
       "      <th>pay_amt6</th>\n",
       "      <th>default</th>\n",
       "    </tr>\n",
       "  </thead>\n",
       "  <tbody>\n",
       "    <tr>\n",
       "      <th>0</th>\n",
       "      <td>20000</td>\n",
       "      <td>male</td>\n",
       "      <td>university</td>\n",
       "      <td>married</td>\n",
       "      <td>24</td>\n",
       "      <td>two_month_late</td>\n",
       "      <td>two_month_late</td>\n",
       "      <td>duly</td>\n",
       "      <td>duly</td>\n",
       "      <td>one_month_early</td>\n",
       "      <td>...</td>\n",
       "      <td>0</td>\n",
       "      <td>0</td>\n",
       "      <td>0</td>\n",
       "      <td>0</td>\n",
       "      <td>689</td>\n",
       "      <td>0</td>\n",
       "      <td>0</td>\n",
       "      <td>0</td>\n",
       "      <td>0</td>\n",
       "      <td>1</td>\n",
       "    </tr>\n",
       "    <tr>\n",
       "      <th>1</th>\n",
       "      <td>120000</td>\n",
       "      <td>male</td>\n",
       "      <td>university</td>\n",
       "      <td>single</td>\n",
       "      <td>26</td>\n",
       "      <td>duly</td>\n",
       "      <td>two_month_late</td>\n",
       "      <td>unk</td>\n",
       "      <td>unk</td>\n",
       "      <td>unk</td>\n",
       "      <td>...</td>\n",
       "      <td>3272</td>\n",
       "      <td>3455</td>\n",
       "      <td>3261</td>\n",
       "      <td>0</td>\n",
       "      <td>1000</td>\n",
       "      <td>1000</td>\n",
       "      <td>1000</td>\n",
       "      <td>0</td>\n",
       "      <td>2000</td>\n",
       "      <td>1</td>\n",
       "    </tr>\n",
       "  </tbody>\n",
       "</table>\n",
       "<p>2 rows × 24 columns</p>\n",
       "</div>"
      ],
      "text/plain": [
       "   limit_bal   sex   education marriage  age           pay_0           pay_2  \\\n",
       "0      20000  male  university  married   24  two_month_late  two_month_late   \n",
       "1     120000  male  university   single   26            duly  two_month_late   \n",
       "\n",
       "  pay_3 pay_4            pay_5  ... bill_amt4  bill_amt5  bill_amt6  pay_amt1  \\\n",
       "0  duly  duly  one_month_early  ...         0          0          0         0   \n",
       "1   unk   unk              unk  ...      3272       3455       3261         0   \n",
       "\n",
       "   pay_amt2  pay_amt3  pay_amt4  pay_amt5  pay_amt6  default  \n",
       "0       689         0         0         0         0        1  \n",
       "1      1000      1000      1000         0      2000        1  \n",
       "\n",
       "[2 rows x 24 columns]"
      ]
     },
     "execution_count": 17,
     "metadata": {},
     "output_type": "execute_result"
    }
   ],
   "source": [
    "df['default'] = (df.default_payment_next_month == 'default').astype(int)\n",
    "del df['default_payment_next_month']\n",
    "del df['id']\n",
    "df.head(2)"
   ]
  },
  {
   "cell_type": "code",
   "execution_count": 18,
   "id": "16f0a611",
   "metadata": {},
   "outputs": [],
   "source": [
    "df = df[df.default != 'unk'].reset_index(drop=True)"
   ]
  },
  {
   "cell_type": "code",
   "execution_count": 19,
   "id": "36c1ddf1",
   "metadata": {},
   "outputs": [
    {
     "name": "stdout",
     "output_type": "stream",
     "text": [
      "<class 'pandas.core.frame.DataFrame'>\n",
      "RangeIndex: 30000 entries, 0 to 29999\n",
      "Data columns (total 24 columns):\n",
      " #   Column     Non-Null Count  Dtype \n",
      "---  ------     --------------  ----- \n",
      " 0   limit_bal  30000 non-null  int64 \n",
      " 1   sex        30000 non-null  object\n",
      " 2   education  30000 non-null  object\n",
      " 3   marriage   30000 non-null  object\n",
      " 4   age        30000 non-null  int64 \n",
      " 5   pay_0      29981 non-null  object\n",
      " 6   pay_2      29999 non-null  object\n",
      " 7   pay_3      29997 non-null  object\n",
      " 8   pay_4      29998 non-null  object\n",
      " 9   pay_5      29999 non-null  object\n",
      " 10  pay_6      29998 non-null  object\n",
      " 11  bill_amt1  30000 non-null  int64 \n",
      " 12  bill_amt2  30000 non-null  int64 \n",
      " 13  bill_amt3  30000 non-null  int64 \n",
      " 14  bill_amt4  30000 non-null  int64 \n",
      " 15  bill_amt5  30000 non-null  int64 \n",
      " 16  bill_amt6  30000 non-null  int64 \n",
      " 17  pay_amt1   30000 non-null  int64 \n",
      " 18  pay_amt2   30000 non-null  int64 \n",
      " 19  pay_amt3   30000 non-null  int64 \n",
      " 20  pay_amt4   30000 non-null  int64 \n",
      " 21  pay_amt5   30000 non-null  int64 \n",
      " 22  pay_amt6   30000 non-null  int64 \n",
      " 23  default    30000 non-null  int32 \n",
      "dtypes: int32(1), int64(14), object(9)\n",
      "memory usage: 5.4+ MB\n"
     ]
    }
   ],
   "source": [
    "df.info()"
   ]
  },
  {
   "cell_type": "code",
   "execution_count": 20,
   "id": "e1f2ec98",
   "metadata": {},
   "outputs": [],
   "source": [
    "categorical = ['sex', 'education', 'marriage', 'pay_0', 'pay_2', 'pay_3', 'pay_4', 'pay_5', 'pay_6']\n",
    "numerical = ['limit_bal', 'age', 'bill_amt1', 'bill_amt2', 'bill_amt3', 'bill_amt4', 'bill_amt5', 'bill_amt6', 'pay_amt1',\n",
    "             'pay_amt2', 'pay_amt3', 'pay_amt4', 'pay_amt5', 'pay_amt6']"
   ]
  },
  {
   "cell_type": "code",
   "execution_count": 21,
   "id": "bdb5f8a8",
   "metadata": {},
   "outputs": [
    {
     "name": "stdout",
     "output_type": "stream",
     "text": [
      "limit_bal\n",
      "[ 20000 120000  90000  50000 500000 100000 140000]\n",
      "81\n",
      "\n",
      "sex\n",
      "['male' 'female']\n",
      "2\n",
      "\n",
      "education\n",
      "['university' 'graduate_school' 'secondary' 'vocational' 'primary'\n",
      " 'others' 'unk']\n",
      "7\n",
      "\n",
      "marriage\n",
      "['married' 'single' 'others' 'unk']\n",
      "4\n",
      "\n",
      "age\n",
      "[24 26 34 37 57 29 23]\n",
      "56\n",
      "\n",
      "pay_0\n",
      "['two_month_late' 'duly' 'unk' 'one_month_early' 'one_month_late'\n",
      " 'three_month_late' 'four_month_late']\n",
      "10\n",
      "\n",
      "pay_2\n",
      "['two_month_late' 'unk' 'duly' 'one_month_early' 'three_month_late'\n",
      " 'five_month_late' 'seven_month_late']\n",
      "10\n",
      "\n",
      "pay_3\n",
      "['duly' 'unk' 'two_month_late' 'one_month_early' 'three_month_late'\n",
      " 'four_month_late' 'six_month_late']\n",
      "10\n",
      "\n",
      "pay_4\n",
      "['duly' 'unk' 'one_month_early' 'two_month_late' 'three_month_late'\n",
      " 'four_month_late' 'five_month_late']\n",
      "10\n",
      "\n",
      "pay_5\n",
      "['one_month_early' 'unk' 'duly' 'two_month_late' 'three_month_late'\n",
      " 'five_month_late' 'four_month_late']\n",
      "9\n",
      "\n",
      "pay_6\n",
      "['one_month_early' 'two_month_late' 'unk' 'duly' 'three_month_late'\n",
      " 'six_month_late' 'four_month_late']\n",
      "9\n",
      "\n",
      "bill_amt1\n",
      "[  3913   2682  29239  46990   8617  64400 367965]\n",
      "22723\n",
      "\n",
      "bill_amt2\n",
      "[  3102   1725  14027  48233   5670  57069 412023]\n",
      "22346\n",
      "\n",
      "bill_amt3\n",
      "[   689   2682  13559  49291  35835  57608 445007]\n",
      "22026\n",
      "\n",
      "bill_amt4\n",
      "[     0   3272  14331  28314  20940  19394 542653]\n",
      "21548\n",
      "\n",
      "bill_amt5\n",
      "[     0   3455  14948  28959  19146  19619 483003]\n",
      "21010\n",
      "\n",
      "bill_amt6\n",
      "[     0   3261  15549  29547  19131  20024 473944]\n",
      "20604\n",
      "\n",
      "pay_amt1\n",
      "[    0  1518  2000  2500 55000   380  3329]\n",
      "7943\n",
      "\n",
      "pay_amt2\n",
      "[  689  1000  1500  2019 36681  1815 40000]\n",
      "7899\n",
      "\n",
      "pay_amt3\n",
      "[    0  1000  1200 10000   657 38000   432]\n",
      "7518\n",
      "\n",
      "pay_amt4\n",
      "[    0  1000  1100  9000 20239   581 13007]\n",
      "6937\n",
      "\n",
      "pay_amt5\n",
      "[    0  1000  1069   689 13750  1687  1122]\n",
      "6897\n",
      "\n",
      "pay_amt6\n",
      "[    0  2000  5000  1000   679   800 13770]\n",
      "6939\n",
      "\n",
      "default\n",
      "[1 0]\n",
      "2\n",
      "\n"
     ]
    }
   ],
   "source": [
    "for col in df.columns:\n",
    "    print(col)\n",
    "    print(df[col].unique()[:7]) # looks for all unique values\n",
    "    print(df[col].nunique())\n",
    "    print()"
   ]
  },
  {
   "cell_type": "code",
   "execution_count": 22,
   "id": "4c45af2b",
   "metadata": {},
   "outputs": [
    {
     "data": {
      "text/plain": [
       "limit_bal     0\n",
       "sex           0\n",
       "education     0\n",
       "marriage      0\n",
       "age           0\n",
       "pay_0        19\n",
       "pay_2         1\n",
       "pay_3         3\n",
       "pay_4         2\n",
       "pay_5         1\n",
       "pay_6         2\n",
       "bill_amt1     0\n",
       "bill_amt2     0\n",
       "bill_amt3     0\n",
       "bill_amt4     0\n",
       "bill_amt5     0\n",
       "bill_amt6     0\n",
       "pay_amt1      0\n",
       "pay_amt2      0\n",
       "pay_amt3      0\n",
       "pay_amt4      0\n",
       "pay_amt5      0\n",
       "pay_amt6      0\n",
       "default       0\n",
       "dtype: int64"
      ]
     },
     "execution_count": 22,
     "metadata": {},
     "output_type": "execute_result"
    }
   ],
   "source": [
    "df.isnull().sum()"
   ]
  },
  {
   "cell_type": "code",
   "execution_count": 23,
   "id": "a7175b1c",
   "metadata": {},
   "outputs": [],
   "source": [
    "df = df.fillna(0)"
   ]
  },
  {
   "cell_type": "code",
   "execution_count": 24,
   "id": "ab442c8d",
   "metadata": {},
   "outputs": [
    {
     "data": {
      "text/plain": [
       "limit_bal    0\n",
       "sex          0\n",
       "education    0\n",
       "marriage     0\n",
       "age          0\n",
       "pay_0        0\n",
       "pay_2        0\n",
       "pay_3        0\n",
       "pay_4        0\n",
       "pay_5        0\n",
       "pay_6        0\n",
       "bill_amt1    0\n",
       "bill_amt2    0\n",
       "bill_amt3    0\n",
       "bill_amt4    0\n",
       "bill_amt5    0\n",
       "bill_amt6    0\n",
       "pay_amt1     0\n",
       "pay_amt2     0\n",
       "pay_amt3     0\n",
       "pay_amt4     0\n",
       "pay_amt5     0\n",
       "pay_amt6     0\n",
       "default      0\n",
       "dtype: int64"
      ]
     },
     "execution_count": 24,
     "metadata": {},
     "output_type": "execute_result"
    }
   ],
   "source": [
    "df.isnull().sum()"
   ]
  },
  {
   "cell_type": "code",
   "execution_count": 25,
   "id": "71b3d8f8",
   "metadata": {},
   "outputs": [
    {
     "data": {
      "text/plain": [
       "(30000, 24)"
      ]
     },
     "execution_count": 25,
     "metadata": {},
     "output_type": "execute_result"
    }
   ],
   "source": [
    "df.shape # sanity check"
   ]
  },
  {
   "cell_type": "code",
   "execution_count": 26,
   "id": "6723189b",
   "metadata": {},
   "outputs": [
    {
     "data": {
      "text/html": [
       "<div>\n",
       "<style scoped>\n",
       "    .dataframe tbody tr th:only-of-type {\n",
       "        vertical-align: middle;\n",
       "    }\n",
       "\n",
       "    .dataframe tbody tr th {\n",
       "        vertical-align: top;\n",
       "    }\n",
       "\n",
       "    .dataframe thead th {\n",
       "        text-align: right;\n",
       "    }\n",
       "</style>\n",
       "<table border=\"1\" class=\"dataframe\">\n",
       "  <thead>\n",
       "    <tr style=\"text-align: right;\">\n",
       "      <th></th>\n",
       "      <th>limit_bal</th>\n",
       "      <th>sex</th>\n",
       "      <th>education</th>\n",
       "      <th>marriage</th>\n",
       "      <th>age</th>\n",
       "      <th>pay_0</th>\n",
       "      <th>pay_2</th>\n",
       "      <th>pay_3</th>\n",
       "      <th>pay_4</th>\n",
       "      <th>pay_5</th>\n",
       "      <th>...</th>\n",
       "      <th>bill_amt4</th>\n",
       "      <th>bill_amt5</th>\n",
       "      <th>bill_amt6</th>\n",
       "      <th>pay_amt1</th>\n",
       "      <th>pay_amt2</th>\n",
       "      <th>pay_amt3</th>\n",
       "      <th>pay_amt4</th>\n",
       "      <th>pay_amt5</th>\n",
       "      <th>pay_amt6</th>\n",
       "      <th>default</th>\n",
       "    </tr>\n",
       "  </thead>\n",
       "  <tbody>\n",
       "    <tr>\n",
       "      <th>0</th>\n",
       "      <td>20000</td>\n",
       "      <td>male</td>\n",
       "      <td>university</td>\n",
       "      <td>married</td>\n",
       "      <td>24</td>\n",
       "      <td>two_month_late</td>\n",
       "      <td>two_month_late</td>\n",
       "      <td>duly</td>\n",
       "      <td>duly</td>\n",
       "      <td>one_month_early</td>\n",
       "      <td>...</td>\n",
       "      <td>0</td>\n",
       "      <td>0</td>\n",
       "      <td>0</td>\n",
       "      <td>0</td>\n",
       "      <td>689</td>\n",
       "      <td>0</td>\n",
       "      <td>0</td>\n",
       "      <td>0</td>\n",
       "      <td>0</td>\n",
       "      <td>1</td>\n",
       "    </tr>\n",
       "    <tr>\n",
       "      <th>1</th>\n",
       "      <td>120000</td>\n",
       "      <td>male</td>\n",
       "      <td>university</td>\n",
       "      <td>single</td>\n",
       "      <td>26</td>\n",
       "      <td>duly</td>\n",
       "      <td>two_month_late</td>\n",
       "      <td>unk</td>\n",
       "      <td>unk</td>\n",
       "      <td>unk</td>\n",
       "      <td>...</td>\n",
       "      <td>3272</td>\n",
       "      <td>3455</td>\n",
       "      <td>3261</td>\n",
       "      <td>0</td>\n",
       "      <td>1000</td>\n",
       "      <td>1000</td>\n",
       "      <td>1000</td>\n",
       "      <td>0</td>\n",
       "      <td>2000</td>\n",
       "      <td>1</td>\n",
       "    </tr>\n",
       "    <tr>\n",
       "      <th>2</th>\n",
       "      <td>90000</td>\n",
       "      <td>male</td>\n",
       "      <td>university</td>\n",
       "      <td>single</td>\n",
       "      <td>34</td>\n",
       "      <td>unk</td>\n",
       "      <td>unk</td>\n",
       "      <td>unk</td>\n",
       "      <td>unk</td>\n",
       "      <td>unk</td>\n",
       "      <td>...</td>\n",
       "      <td>14331</td>\n",
       "      <td>14948</td>\n",
       "      <td>15549</td>\n",
       "      <td>1518</td>\n",
       "      <td>1500</td>\n",
       "      <td>1000</td>\n",
       "      <td>1000</td>\n",
       "      <td>1000</td>\n",
       "      <td>5000</td>\n",
       "      <td>0</td>\n",
       "    </tr>\n",
       "    <tr>\n",
       "      <th>3</th>\n",
       "      <td>50000</td>\n",
       "      <td>male</td>\n",
       "      <td>university</td>\n",
       "      <td>married</td>\n",
       "      <td>37</td>\n",
       "      <td>unk</td>\n",
       "      <td>unk</td>\n",
       "      <td>unk</td>\n",
       "      <td>unk</td>\n",
       "      <td>unk</td>\n",
       "      <td>...</td>\n",
       "      <td>28314</td>\n",
       "      <td>28959</td>\n",
       "      <td>29547</td>\n",
       "      <td>2000</td>\n",
       "      <td>2019</td>\n",
       "      <td>1200</td>\n",
       "      <td>1100</td>\n",
       "      <td>1069</td>\n",
       "      <td>1000</td>\n",
       "      <td>0</td>\n",
       "    </tr>\n",
       "    <tr>\n",
       "      <th>4</th>\n",
       "      <td>50000</td>\n",
       "      <td>female</td>\n",
       "      <td>university</td>\n",
       "      <td>married</td>\n",
       "      <td>57</td>\n",
       "      <td>duly</td>\n",
       "      <td>unk</td>\n",
       "      <td>duly</td>\n",
       "      <td>unk</td>\n",
       "      <td>unk</td>\n",
       "      <td>...</td>\n",
       "      <td>20940</td>\n",
       "      <td>19146</td>\n",
       "      <td>19131</td>\n",
       "      <td>2000</td>\n",
       "      <td>36681</td>\n",
       "      <td>10000</td>\n",
       "      <td>9000</td>\n",
       "      <td>689</td>\n",
       "      <td>679</td>\n",
       "      <td>0</td>\n",
       "    </tr>\n",
       "  </tbody>\n",
       "</table>\n",
       "<p>5 rows × 24 columns</p>\n",
       "</div>"
      ],
      "text/plain": [
       "   limit_bal     sex   education marriage  age           pay_0  \\\n",
       "0      20000    male  university  married   24  two_month_late   \n",
       "1     120000    male  university   single   26            duly   \n",
       "2      90000    male  university   single   34             unk   \n",
       "3      50000    male  university  married   37             unk   \n",
       "4      50000  female  university  married   57            duly   \n",
       "\n",
       "            pay_2 pay_3 pay_4            pay_5  ... bill_amt4  bill_amt5  \\\n",
       "0  two_month_late  duly  duly  one_month_early  ...         0          0   \n",
       "1  two_month_late   unk   unk              unk  ...      3272       3455   \n",
       "2             unk   unk   unk              unk  ...     14331      14948   \n",
       "3             unk   unk   unk              unk  ...     28314      28959   \n",
       "4             unk  duly   unk              unk  ...     20940      19146   \n",
       "\n",
       "   bill_amt6  pay_amt1  pay_amt2  pay_amt3  pay_amt4  pay_amt5  pay_amt6  \\\n",
       "0          0         0       689         0         0         0         0   \n",
       "1       3261         0      1000      1000      1000         0      2000   \n",
       "2      15549      1518      1500      1000      1000      1000      5000   \n",
       "3      29547      2000      2019      1200      1100      1069      1000   \n",
       "4      19131      2000     36681     10000      9000       689       679   \n",
       "\n",
       "   default  \n",
       "0        1  \n",
       "1        1  \n",
       "2        0  \n",
       "3        0  \n",
       "4        0  \n",
       "\n",
       "[5 rows x 24 columns]"
      ]
     },
     "execution_count": 26,
     "metadata": {},
     "output_type": "execute_result"
    }
   ],
   "source": [
    "df.head()"
   ]
  },
  {
   "cell_type": "code",
   "execution_count": 27,
   "id": "f04d46d1",
   "metadata": {},
   "outputs": [
    {
     "data": {
      "text/html": [
       "<div>\n",
       "<style scoped>\n",
       "    .dataframe tbody tr th:only-of-type {\n",
       "        vertical-align: middle;\n",
       "    }\n",
       "\n",
       "    .dataframe tbody tr th {\n",
       "        vertical-align: top;\n",
       "    }\n",
       "\n",
       "    .dataframe thead th {\n",
       "        text-align: right;\n",
       "    }\n",
       "</style>\n",
       "<table border=\"1\" class=\"dataframe\">\n",
       "  <thead>\n",
       "    <tr style=\"text-align: right;\">\n",
       "      <th></th>\n",
       "      <th>limit_bal</th>\n",
       "      <th>age</th>\n",
       "      <th>bill_amt1</th>\n",
       "      <th>bill_amt2</th>\n",
       "      <th>bill_amt3</th>\n",
       "      <th>bill_amt4</th>\n",
       "      <th>bill_amt5</th>\n",
       "      <th>bill_amt6</th>\n",
       "      <th>pay_amt1</th>\n",
       "      <th>pay_amt2</th>\n",
       "      <th>pay_amt3</th>\n",
       "      <th>pay_amt4</th>\n",
       "      <th>pay_amt5</th>\n",
       "      <th>pay_amt6</th>\n",
       "      <th>default</th>\n",
       "    </tr>\n",
       "  </thead>\n",
       "  <tbody>\n",
       "    <tr>\n",
       "      <th>limit_bal</th>\n",
       "      <td>1.000000</td>\n",
       "      <td>0.144713</td>\n",
       "      <td>0.285430</td>\n",
       "      <td>0.278314</td>\n",
       "      <td>0.283236</td>\n",
       "      <td>0.293988</td>\n",
       "      <td>0.295562</td>\n",
       "      <td>0.290389</td>\n",
       "      <td>0.195236</td>\n",
       "      <td>0.178408</td>\n",
       "      <td>0.210167</td>\n",
       "      <td>0.203242</td>\n",
       "      <td>0.217202</td>\n",
       "      <td>0.219595</td>\n",
       "      <td>-0.153520</td>\n",
       "    </tr>\n",
       "    <tr>\n",
       "      <th>age</th>\n",
       "      <td>0.144713</td>\n",
       "      <td>1.000000</td>\n",
       "      <td>0.056239</td>\n",
       "      <td>0.054283</td>\n",
       "      <td>0.053710</td>\n",
       "      <td>0.051353</td>\n",
       "      <td>0.049345</td>\n",
       "      <td>0.047613</td>\n",
       "      <td>0.026147</td>\n",
       "      <td>0.021785</td>\n",
       "      <td>0.029247</td>\n",
       "      <td>0.021379</td>\n",
       "      <td>0.022850</td>\n",
       "      <td>0.019478</td>\n",
       "      <td>0.013890</td>\n",
       "    </tr>\n",
       "    <tr>\n",
       "      <th>bill_amt1</th>\n",
       "      <td>0.285430</td>\n",
       "      <td>0.056239</td>\n",
       "      <td>1.000000</td>\n",
       "      <td>0.951484</td>\n",
       "      <td>0.892279</td>\n",
       "      <td>0.860272</td>\n",
       "      <td>0.829779</td>\n",
       "      <td>0.802650</td>\n",
       "      <td>0.140277</td>\n",
       "      <td>0.099355</td>\n",
       "      <td>0.156887</td>\n",
       "      <td>0.158303</td>\n",
       "      <td>0.167026</td>\n",
       "      <td>0.179341</td>\n",
       "      <td>-0.019644</td>\n",
       "    </tr>\n",
       "    <tr>\n",
       "      <th>bill_amt2</th>\n",
       "      <td>0.278314</td>\n",
       "      <td>0.054283</td>\n",
       "      <td>0.951484</td>\n",
       "      <td>1.000000</td>\n",
       "      <td>0.928326</td>\n",
       "      <td>0.892482</td>\n",
       "      <td>0.859778</td>\n",
       "      <td>0.831594</td>\n",
       "      <td>0.280365</td>\n",
       "      <td>0.100851</td>\n",
       "      <td>0.150718</td>\n",
       "      <td>0.147398</td>\n",
       "      <td>0.157957</td>\n",
       "      <td>0.174256</td>\n",
       "      <td>-0.014193</td>\n",
       "    </tr>\n",
       "    <tr>\n",
       "      <th>bill_amt3</th>\n",
       "      <td>0.283236</td>\n",
       "      <td>0.053710</td>\n",
       "      <td>0.892279</td>\n",
       "      <td>0.928326</td>\n",
       "      <td>1.000000</td>\n",
       "      <td>0.923969</td>\n",
       "      <td>0.883910</td>\n",
       "      <td>0.853320</td>\n",
       "      <td>0.244335</td>\n",
       "      <td>0.316936</td>\n",
       "      <td>0.130011</td>\n",
       "      <td>0.143405</td>\n",
       "      <td>0.179712</td>\n",
       "      <td>0.182326</td>\n",
       "      <td>-0.014076</td>\n",
       "    </tr>\n",
       "    <tr>\n",
       "      <th>bill_amt4</th>\n",
       "      <td>0.293988</td>\n",
       "      <td>0.051353</td>\n",
       "      <td>0.860272</td>\n",
       "      <td>0.892482</td>\n",
       "      <td>0.923969</td>\n",
       "      <td>1.000000</td>\n",
       "      <td>0.940134</td>\n",
       "      <td>0.900941</td>\n",
       "      <td>0.233012</td>\n",
       "      <td>0.207564</td>\n",
       "      <td>0.300023</td>\n",
       "      <td>0.130191</td>\n",
       "      <td>0.160433</td>\n",
       "      <td>0.177637</td>\n",
       "      <td>-0.010156</td>\n",
       "    </tr>\n",
       "    <tr>\n",
       "      <th>bill_amt5</th>\n",
       "      <td>0.295562</td>\n",
       "      <td>0.049345</td>\n",
       "      <td>0.829779</td>\n",
       "      <td>0.859778</td>\n",
       "      <td>0.883910</td>\n",
       "      <td>0.940134</td>\n",
       "      <td>1.000000</td>\n",
       "      <td>0.946197</td>\n",
       "      <td>0.217031</td>\n",
       "      <td>0.181246</td>\n",
       "      <td>0.252305</td>\n",
       "      <td>0.293118</td>\n",
       "      <td>0.141574</td>\n",
       "      <td>0.164184</td>\n",
       "      <td>-0.006760</td>\n",
       "    </tr>\n",
       "    <tr>\n",
       "      <th>bill_amt6</th>\n",
       "      <td>0.290389</td>\n",
       "      <td>0.047613</td>\n",
       "      <td>0.802650</td>\n",
       "      <td>0.831594</td>\n",
       "      <td>0.853320</td>\n",
       "      <td>0.900941</td>\n",
       "      <td>0.946197</td>\n",
       "      <td>1.000000</td>\n",
       "      <td>0.199965</td>\n",
       "      <td>0.172663</td>\n",
       "      <td>0.233770</td>\n",
       "      <td>0.250237</td>\n",
       "      <td>0.307729</td>\n",
       "      <td>0.115494</td>\n",
       "      <td>-0.005372</td>\n",
       "    </tr>\n",
       "    <tr>\n",
       "      <th>pay_amt1</th>\n",
       "      <td>0.195236</td>\n",
       "      <td>0.026147</td>\n",
       "      <td>0.140277</td>\n",
       "      <td>0.280365</td>\n",
       "      <td>0.244335</td>\n",
       "      <td>0.233012</td>\n",
       "      <td>0.217031</td>\n",
       "      <td>0.199965</td>\n",
       "      <td>1.000000</td>\n",
       "      <td>0.285576</td>\n",
       "      <td>0.252191</td>\n",
       "      <td>0.199558</td>\n",
       "      <td>0.148459</td>\n",
       "      <td>0.185735</td>\n",
       "      <td>-0.072929</td>\n",
       "    </tr>\n",
       "    <tr>\n",
       "      <th>pay_amt2</th>\n",
       "      <td>0.178408</td>\n",
       "      <td>0.021785</td>\n",
       "      <td>0.099355</td>\n",
       "      <td>0.100851</td>\n",
       "      <td>0.316936</td>\n",
       "      <td>0.207564</td>\n",
       "      <td>0.181246</td>\n",
       "      <td>0.172663</td>\n",
       "      <td>0.285576</td>\n",
       "      <td>1.000000</td>\n",
       "      <td>0.244770</td>\n",
       "      <td>0.180107</td>\n",
       "      <td>0.180908</td>\n",
       "      <td>0.157634</td>\n",
       "      <td>-0.058579</td>\n",
       "    </tr>\n",
       "    <tr>\n",
       "      <th>pay_amt3</th>\n",
       "      <td>0.210167</td>\n",
       "      <td>0.029247</td>\n",
       "      <td>0.156887</td>\n",
       "      <td>0.150718</td>\n",
       "      <td>0.130011</td>\n",
       "      <td>0.300023</td>\n",
       "      <td>0.252305</td>\n",
       "      <td>0.233770</td>\n",
       "      <td>0.252191</td>\n",
       "      <td>0.244770</td>\n",
       "      <td>1.000000</td>\n",
       "      <td>0.216325</td>\n",
       "      <td>0.159214</td>\n",
       "      <td>0.162740</td>\n",
       "      <td>-0.056250</td>\n",
       "    </tr>\n",
       "    <tr>\n",
       "      <th>pay_amt4</th>\n",
       "      <td>0.203242</td>\n",
       "      <td>0.021379</td>\n",
       "      <td>0.158303</td>\n",
       "      <td>0.147398</td>\n",
       "      <td>0.143405</td>\n",
       "      <td>0.130191</td>\n",
       "      <td>0.293118</td>\n",
       "      <td>0.250237</td>\n",
       "      <td>0.199558</td>\n",
       "      <td>0.180107</td>\n",
       "      <td>0.216325</td>\n",
       "      <td>1.000000</td>\n",
       "      <td>0.151830</td>\n",
       "      <td>0.157834</td>\n",
       "      <td>-0.056827</td>\n",
       "    </tr>\n",
       "    <tr>\n",
       "      <th>pay_amt5</th>\n",
       "      <td>0.217202</td>\n",
       "      <td>0.022850</td>\n",
       "      <td>0.167026</td>\n",
       "      <td>0.157957</td>\n",
       "      <td>0.179712</td>\n",
       "      <td>0.160433</td>\n",
       "      <td>0.141574</td>\n",
       "      <td>0.307729</td>\n",
       "      <td>0.148459</td>\n",
       "      <td>0.180908</td>\n",
       "      <td>0.159214</td>\n",
       "      <td>0.151830</td>\n",
       "      <td>1.000000</td>\n",
       "      <td>0.154896</td>\n",
       "      <td>-0.055124</td>\n",
       "    </tr>\n",
       "    <tr>\n",
       "      <th>pay_amt6</th>\n",
       "      <td>0.219595</td>\n",
       "      <td>0.019478</td>\n",
       "      <td>0.179341</td>\n",
       "      <td>0.174256</td>\n",
       "      <td>0.182326</td>\n",
       "      <td>0.177637</td>\n",
       "      <td>0.164184</td>\n",
       "      <td>0.115494</td>\n",
       "      <td>0.185735</td>\n",
       "      <td>0.157634</td>\n",
       "      <td>0.162740</td>\n",
       "      <td>0.157834</td>\n",
       "      <td>0.154896</td>\n",
       "      <td>1.000000</td>\n",
       "      <td>-0.053183</td>\n",
       "    </tr>\n",
       "    <tr>\n",
       "      <th>default</th>\n",
       "      <td>-0.153520</td>\n",
       "      <td>0.013890</td>\n",
       "      <td>-0.019644</td>\n",
       "      <td>-0.014193</td>\n",
       "      <td>-0.014076</td>\n",
       "      <td>-0.010156</td>\n",
       "      <td>-0.006760</td>\n",
       "      <td>-0.005372</td>\n",
       "      <td>-0.072929</td>\n",
       "      <td>-0.058579</td>\n",
       "      <td>-0.056250</td>\n",
       "      <td>-0.056827</td>\n",
       "      <td>-0.055124</td>\n",
       "      <td>-0.053183</td>\n",
       "      <td>1.000000</td>\n",
       "    </tr>\n",
       "  </tbody>\n",
       "</table>\n",
       "</div>"
      ],
      "text/plain": [
       "           limit_bal       age  bill_amt1  bill_amt2  bill_amt3  bill_amt4  \\\n",
       "limit_bal   1.000000  0.144713   0.285430   0.278314   0.283236   0.293988   \n",
       "age         0.144713  1.000000   0.056239   0.054283   0.053710   0.051353   \n",
       "bill_amt1   0.285430  0.056239   1.000000   0.951484   0.892279   0.860272   \n",
       "bill_amt2   0.278314  0.054283   0.951484   1.000000   0.928326   0.892482   \n",
       "bill_amt3   0.283236  0.053710   0.892279   0.928326   1.000000   0.923969   \n",
       "bill_amt4   0.293988  0.051353   0.860272   0.892482   0.923969   1.000000   \n",
       "bill_amt5   0.295562  0.049345   0.829779   0.859778   0.883910   0.940134   \n",
       "bill_amt6   0.290389  0.047613   0.802650   0.831594   0.853320   0.900941   \n",
       "pay_amt1    0.195236  0.026147   0.140277   0.280365   0.244335   0.233012   \n",
       "pay_amt2    0.178408  0.021785   0.099355   0.100851   0.316936   0.207564   \n",
       "pay_amt3    0.210167  0.029247   0.156887   0.150718   0.130011   0.300023   \n",
       "pay_amt4    0.203242  0.021379   0.158303   0.147398   0.143405   0.130191   \n",
       "pay_amt5    0.217202  0.022850   0.167026   0.157957   0.179712   0.160433   \n",
       "pay_amt6    0.219595  0.019478   0.179341   0.174256   0.182326   0.177637   \n",
       "default    -0.153520  0.013890  -0.019644  -0.014193  -0.014076  -0.010156   \n",
       "\n",
       "           bill_amt5  bill_amt6  pay_amt1  pay_amt2  pay_amt3  pay_amt4  \\\n",
       "limit_bal   0.295562   0.290389  0.195236  0.178408  0.210167  0.203242   \n",
       "age         0.049345   0.047613  0.026147  0.021785  0.029247  0.021379   \n",
       "bill_amt1   0.829779   0.802650  0.140277  0.099355  0.156887  0.158303   \n",
       "bill_amt2   0.859778   0.831594  0.280365  0.100851  0.150718  0.147398   \n",
       "bill_amt3   0.883910   0.853320  0.244335  0.316936  0.130011  0.143405   \n",
       "bill_amt4   0.940134   0.900941  0.233012  0.207564  0.300023  0.130191   \n",
       "bill_amt5   1.000000   0.946197  0.217031  0.181246  0.252305  0.293118   \n",
       "bill_amt6   0.946197   1.000000  0.199965  0.172663  0.233770  0.250237   \n",
       "pay_amt1    0.217031   0.199965  1.000000  0.285576  0.252191  0.199558   \n",
       "pay_amt2    0.181246   0.172663  0.285576  1.000000  0.244770  0.180107   \n",
       "pay_amt3    0.252305   0.233770  0.252191  0.244770  1.000000  0.216325   \n",
       "pay_amt4    0.293118   0.250237  0.199558  0.180107  0.216325  1.000000   \n",
       "pay_amt5    0.141574   0.307729  0.148459  0.180908  0.159214  0.151830   \n",
       "pay_amt6    0.164184   0.115494  0.185735  0.157634  0.162740  0.157834   \n",
       "default    -0.006760  -0.005372 -0.072929 -0.058579 -0.056250 -0.056827   \n",
       "\n",
       "           pay_amt5  pay_amt6   default  \n",
       "limit_bal  0.217202  0.219595 -0.153520  \n",
       "age        0.022850  0.019478  0.013890  \n",
       "bill_amt1  0.167026  0.179341 -0.019644  \n",
       "bill_amt2  0.157957  0.174256 -0.014193  \n",
       "bill_amt3  0.179712  0.182326 -0.014076  \n",
       "bill_amt4  0.160433  0.177637 -0.010156  \n",
       "bill_amt5  0.141574  0.164184 -0.006760  \n",
       "bill_amt6  0.307729  0.115494 -0.005372  \n",
       "pay_amt1   0.148459  0.185735 -0.072929  \n",
       "pay_amt2   0.180908  0.157634 -0.058579  \n",
       "pay_amt3   0.159214  0.162740 -0.056250  \n",
       "pay_amt4   0.151830  0.157834 -0.056827  \n",
       "pay_amt5   1.000000  0.154896 -0.055124  \n",
       "pay_amt6   0.154896  1.000000 -0.053183  \n",
       "default   -0.055124 -0.053183  1.000000  "
      ]
     },
     "execution_count": 27,
     "metadata": {},
     "output_type": "execute_result"
    }
   ],
   "source": [
    "df.corr() # correlation table "
   ]
  },
  {
   "cell_type": "code",
   "execution_count": 28,
   "id": "80922690",
   "metadata": {},
   "outputs": [
    {
     "data": {
      "image/png": "[encoded data removed]",
      "text/plain": [
       "<Figure size 1080x720 with 2 Axes>"
      ]
     },
     "metadata": {
      "needs_background": "light"
     },
     "output_type": "display_data"
    }
   ],
   "source": [
    "# this plot helps me to spot highest correlation\n",
    "plt.figure(figsize=(15,10))  \n",
    "sns.heatmap(df.corr(),annot=True,linewidths=.5, cmap=\"Blues\")\n",
    "plt.title('Heatmap showing correlations between numerical data')\n",
    "plt.show()"
   ]
  },
  {
   "cell_type": "code",
   "execution_count": 29,
   "id": "8692ba67",
   "metadata": {},
   "outputs": [
    {
     "data": {
      "text/plain": [
       "bill_amt5  bill_amt4    0.940134\n",
       "bill_amt3  bill_amt2    0.928326\n",
       "bill_amt2  bill_amt3    0.928326\n",
       "bill_amt4  bill_amt3    0.923969\n",
       "bill_amt3  bill_amt4    0.923969\n",
       "bill_amt6  bill_amt4    0.900941\n",
       "bill_amt4  bill_amt6    0.900941\n",
       "           bill_amt2    0.892482\n",
       "bill_amt2  bill_amt4    0.892482\n",
       "bill_amt3  bill_amt1    0.892279\n",
       "dtype: float64"
      ]
     },
     "execution_count": 29,
     "metadata": {},
     "output_type": "execute_result"
    }
   ],
   "source": [
    "# from here, we can see that bill_amt1 & bill_amt2 have the highest correlation\n",
    "df.corr().unstack().sort_values(ascending = False)[20:30]"
   ]
  },
  {
   "cell_type": "code",
   "execution_count": 30,
   "id": "4ead84e9",
   "metadata": {},
   "outputs": [
    {
     "data": {
      "text/html": [
       "<div>\n",
       "<style scoped>\n",
       "    .dataframe tbody tr th:only-of-type {\n",
       "        vertical-align: middle;\n",
       "    }\n",
       "\n",
       "    .dataframe tbody tr th {\n",
       "        vertical-align: top;\n",
       "    }\n",
       "\n",
       "    .dataframe thead th {\n",
       "        text-align: right;\n",
       "    }\n",
       "</style>\n",
       "<table border=\"1\" class=\"dataframe\">\n",
       "  <thead>\n",
       "    <tr style=\"text-align: right;\">\n",
       "      <th></th>\n",
       "      <th>limit_bal</th>\n",
       "      <th>sex</th>\n",
       "      <th>education</th>\n",
       "      <th>marriage</th>\n",
       "      <th>age</th>\n",
       "      <th>pay_0</th>\n",
       "      <th>pay_2</th>\n",
       "      <th>pay_3</th>\n",
       "      <th>pay_4</th>\n",
       "      <th>pay_5</th>\n",
       "      <th>...</th>\n",
       "      <th>bill_amt4</th>\n",
       "      <th>bill_amt5</th>\n",
       "      <th>bill_amt6</th>\n",
       "      <th>pay_amt1</th>\n",
       "      <th>pay_amt2</th>\n",
       "      <th>pay_amt3</th>\n",
       "      <th>pay_amt4</th>\n",
       "      <th>pay_amt5</th>\n",
       "      <th>pay_amt6</th>\n",
       "      <th>default</th>\n",
       "    </tr>\n",
       "  </thead>\n",
       "  <tbody>\n",
       "    <tr>\n",
       "      <th>0</th>\n",
       "      <td>20000</td>\n",
       "      <td>male</td>\n",
       "      <td>university</td>\n",
       "      <td>married</td>\n",
       "      <td>24</td>\n",
       "      <td>two_month_late</td>\n",
       "      <td>two_month_late</td>\n",
       "      <td>duly</td>\n",
       "      <td>duly</td>\n",
       "      <td>one_month_early</td>\n",
       "      <td>...</td>\n",
       "      <td>0</td>\n",
       "      <td>0</td>\n",
       "      <td>0</td>\n",
       "      <td>0</td>\n",
       "      <td>689</td>\n",
       "      <td>0</td>\n",
       "      <td>0</td>\n",
       "      <td>0</td>\n",
       "      <td>0</td>\n",
       "      <td>1</td>\n",
       "    </tr>\n",
       "  </tbody>\n",
       "</table>\n",
       "<p>1 rows × 24 columns</p>\n",
       "</div>"
      ],
      "text/plain": [
       "   limit_bal   sex   education marriage  age           pay_0           pay_2  \\\n",
       "0      20000  male  university  married   24  two_month_late  two_month_late   \n",
       "\n",
       "  pay_3 pay_4            pay_5  ... bill_amt4  bill_amt5  bill_amt6  pay_amt1  \\\n",
       "0  duly  duly  one_month_early  ...         0          0          0         0   \n",
       "\n",
       "   pay_amt2  pay_amt3  pay_amt4  pay_amt5  pay_amt6  default  \n",
       "0       689         0         0         0         0        1  \n",
       "\n",
       "[1 rows x 24 columns]"
      ]
     },
     "execution_count": 30,
     "metadata": {},
     "output_type": "execute_result"
    }
   ],
   "source": [
    "df.head(1) # sanity check"
   ]
  },
  {
   "cell_type": "markdown",
   "id": "f7f8929e",
   "metadata": {},
   "source": [
    "## Setting up the Validation Framework"
   ]
  },
  {
   "cell_type": "code",
   "execution_count": null,
   "id": "c7577812",
   "metadata": {},
   "outputs": [],
   "source": []
  },
  {
   "cell_type": "code",
   "execution_count": 31,
   "id": "851ca457",
   "metadata": {},
   "outputs": [],
   "source": [
    "df_full_train, df_test = train_test_split(df, test_size=0.2, random_state=1)"
   ]
  },
  {
   "cell_type": "code",
   "execution_count": 32,
   "id": "c9e103fe",
   "metadata": {},
   "outputs": [
    {
     "data": {
      "text/html": [
       "<div>\n",
       "<style scoped>\n",
       "    .dataframe tbody tr th:only-of-type {\n",
       "        vertical-align: middle;\n",
       "    }\n",
       "\n",
       "    .dataframe tbody tr th {\n",
       "        vertical-align: top;\n",
       "    }\n",
       "\n",
       "    .dataframe thead th {\n",
       "        text-align: right;\n",
       "    }\n",
       "</style>\n",
       "<table border=\"1\" class=\"dataframe\">\n",
       "  <thead>\n",
       "    <tr style=\"text-align: right;\">\n",
       "      <th></th>\n",
       "      <th>limit_bal</th>\n",
       "      <th>sex</th>\n",
       "      <th>education</th>\n",
       "      <th>marriage</th>\n",
       "      <th>age</th>\n",
       "      <th>pay_0</th>\n",
       "      <th>pay_2</th>\n",
       "      <th>pay_3</th>\n",
       "      <th>pay_4</th>\n",
       "      <th>pay_5</th>\n",
       "      <th>...</th>\n",
       "      <th>bill_amt4</th>\n",
       "      <th>bill_amt5</th>\n",
       "      <th>bill_amt6</th>\n",
       "      <th>pay_amt1</th>\n",
       "      <th>pay_amt2</th>\n",
       "      <th>pay_amt3</th>\n",
       "      <th>pay_amt4</th>\n",
       "      <th>pay_amt5</th>\n",
       "      <th>pay_amt6</th>\n",
       "      <th>default</th>\n",
       "    </tr>\n",
       "  </thead>\n",
       "  <tbody>\n",
       "    <tr>\n",
       "      <th>10747</th>\n",
       "      <td>310000</td>\n",
       "      <td>female</td>\n",
       "      <td>secondary</td>\n",
       "      <td>married</td>\n",
       "      <td>32</td>\n",
       "      <td>unk</td>\n",
       "      <td>unk</td>\n",
       "      <td>unk</td>\n",
       "      <td>unk</td>\n",
       "      <td>unk</td>\n",
       "      <td>...</td>\n",
       "      <td>84373</td>\n",
       "      <td>57779</td>\n",
       "      <td>14163</td>\n",
       "      <td>8295</td>\n",
       "      <td>6000</td>\n",
       "      <td>4000</td>\n",
       "      <td>3000</td>\n",
       "      <td>1000</td>\n",
       "      <td>2000</td>\n",
       "      <td>0</td>\n",
       "    </tr>\n",
       "    <tr>\n",
       "      <th>12573</th>\n",
       "      <td>10000</td>\n",
       "      <td>male</td>\n",
       "      <td>secondary</td>\n",
       "      <td>married</td>\n",
       "      <td>49</td>\n",
       "      <td>duly</td>\n",
       "      <td>duly</td>\n",
       "      <td>one_month_early</td>\n",
       "      <td>duly</td>\n",
       "      <td>two_month_late</td>\n",
       "      <td>...</td>\n",
       "      <td>1690</td>\n",
       "      <td>1138</td>\n",
       "      <td>930</td>\n",
       "      <td>0</td>\n",
       "      <td>0</td>\n",
       "      <td>2828</td>\n",
       "      <td>0</td>\n",
       "      <td>182</td>\n",
       "      <td>0</td>\n",
       "      <td>1</td>\n",
       "    </tr>\n",
       "    <tr>\n",
       "      <th>29676</th>\n",
       "      <td>50000</td>\n",
       "      <td>female</td>\n",
       "      <td>university</td>\n",
       "      <td>married</td>\n",
       "      <td>28</td>\n",
       "      <td>duly</td>\n",
       "      <td>duly</td>\n",
       "      <td>duly</td>\n",
       "      <td>unk</td>\n",
       "      <td>duly</td>\n",
       "      <td>...</td>\n",
       "      <td>45975</td>\n",
       "      <td>1300</td>\n",
       "      <td>43987</td>\n",
       "      <td>0</td>\n",
       "      <td>46257</td>\n",
       "      <td>2200</td>\n",
       "      <td>1300</td>\n",
       "      <td>43987</td>\n",
       "      <td>1386</td>\n",
       "      <td>0</td>\n",
       "    </tr>\n",
       "    <tr>\n",
       "      <th>8856</th>\n",
       "      <td>80000</td>\n",
       "      <td>male</td>\n",
       "      <td>secondary</td>\n",
       "      <td>married</td>\n",
       "      <td>52</td>\n",
       "      <td>two_month_late</td>\n",
       "      <td>two_month_late</td>\n",
       "      <td>three_month_late</td>\n",
       "      <td>three_month_late</td>\n",
       "      <td>three_month_late</td>\n",
       "      <td>...</td>\n",
       "      <td>40748</td>\n",
       "      <td>39816</td>\n",
       "      <td>40607</td>\n",
       "      <td>3700</td>\n",
       "      <td>1600</td>\n",
       "      <td>1600</td>\n",
       "      <td>0</td>\n",
       "      <td>1600</td>\n",
       "      <td>1600</td>\n",
       "      <td>1</td>\n",
       "    </tr>\n",
       "    <tr>\n",
       "      <th>21098</th>\n",
       "      <td>270000</td>\n",
       "      <td>female</td>\n",
       "      <td>graduate_school</td>\n",
       "      <td>single</td>\n",
       "      <td>34</td>\n",
       "      <td>one_month_late</td>\n",
       "      <td>two_month_late</td>\n",
       "      <td>unk</td>\n",
       "      <td>unk</td>\n",
       "      <td>two_month_late</td>\n",
       "      <td>...</td>\n",
       "      <td>22448</td>\n",
       "      <td>15490</td>\n",
       "      <td>17343</td>\n",
       "      <td>0</td>\n",
       "      <td>4000</td>\n",
       "      <td>2000</td>\n",
       "      <td>0</td>\n",
       "      <td>2000</td>\n",
       "      <td>2000</td>\n",
       "      <td>0</td>\n",
       "    </tr>\n",
       "  </tbody>\n",
       "</table>\n",
       "<p>5 rows × 24 columns</p>\n",
       "</div>"
      ],
      "text/plain": [
       "       limit_bal     sex        education marriage  age           pay_0  \\\n",
       "10747     310000  female        secondary  married   32             unk   \n",
       "12573      10000    male        secondary  married   49            duly   \n",
       "29676      50000  female       university  married   28            duly   \n",
       "8856       80000    male        secondary  married   52  two_month_late   \n",
       "21098     270000  female  graduate_school   single   34  one_month_late   \n",
       "\n",
       "                pay_2             pay_3             pay_4             pay_5  \\\n",
       "10747             unk               unk               unk               unk   \n",
       "12573            duly   one_month_early              duly    two_month_late   \n",
       "29676            duly              duly               unk              duly   \n",
       "8856   two_month_late  three_month_late  three_month_late  three_month_late   \n",
       "21098  two_month_late               unk               unk    two_month_late   \n",
       "\n",
       "       ... bill_amt4  bill_amt5  bill_amt6  pay_amt1  pay_amt2  pay_amt3  \\\n",
       "10747  ...     84373      57779      14163      8295      6000      4000   \n",
       "12573  ...      1690       1138        930         0         0      2828   \n",
       "29676  ...     45975       1300      43987         0     46257      2200   \n",
       "8856   ...     40748      39816      40607      3700      1600      1600   \n",
       "21098  ...     22448      15490      17343         0      4000      2000   \n",
       "\n",
       "       pay_amt4  pay_amt5  pay_amt6  default  \n",
       "10747      3000      1000      2000        0  \n",
       "12573         0       182         0        1  \n",
       "29676      1300     43987      1386        0  \n",
       "8856          0      1600      1600        1  \n",
       "21098         0      2000      2000        0  \n",
       "\n",
       "[5 rows x 24 columns]"
      ]
     },
     "execution_count": 32,
     "metadata": {},
     "output_type": "execute_result"
    }
   ],
   "source": [
    "# X_full_train = df_full_train['limit_bal'].values\n",
    "# len(X_full_train)\n",
    "df_test.head()"
   ]
  },
  {
   "cell_type": "code",
   "execution_count": 33,
   "id": "0201128f",
   "metadata": {},
   "outputs": [],
   "source": [
    "df_train, df_val = train_test_split(df_full_train, test_size=0.25, random_state=1)"
   ]
  },
  {
   "cell_type": "code",
   "execution_count": 34,
   "id": "50402c5e",
   "metadata": {},
   "outputs": [],
   "source": [
    "df_train = df_train.reset_index(drop=True)\n",
    "df_val = df_val.reset_index(drop=True)\n",
    "df_test = df_test.reset_index(drop=True)"
   ]
  },
  {
   "cell_type": "code",
   "execution_count": 35,
   "id": "51c3d8ef",
   "metadata": {},
   "outputs": [
    {
     "data": {
      "text/html": [
       "<div>\n",
       "<style scoped>\n",
       "    .dataframe tbody tr th:only-of-type {\n",
       "        vertical-align: middle;\n",
       "    }\n",
       "\n",
       "    .dataframe tbody tr th {\n",
       "        vertical-align: top;\n",
       "    }\n",
       "\n",
       "    .dataframe thead th {\n",
       "        text-align: right;\n",
       "    }\n",
       "</style>\n",
       "<table border=\"1\" class=\"dataframe\">\n",
       "  <thead>\n",
       "    <tr style=\"text-align: right;\">\n",
       "      <th></th>\n",
       "      <th>limit_bal</th>\n",
       "      <th>sex</th>\n",
       "      <th>education</th>\n",
       "      <th>marriage</th>\n",
       "      <th>age</th>\n",
       "      <th>pay_0</th>\n",
       "      <th>pay_2</th>\n",
       "      <th>pay_3</th>\n",
       "      <th>pay_4</th>\n",
       "      <th>pay_5</th>\n",
       "      <th>...</th>\n",
       "      <th>bill_amt4</th>\n",
       "      <th>bill_amt5</th>\n",
       "      <th>bill_amt6</th>\n",
       "      <th>pay_amt1</th>\n",
       "      <th>pay_amt2</th>\n",
       "      <th>pay_amt3</th>\n",
       "      <th>pay_amt4</th>\n",
       "      <th>pay_amt5</th>\n",
       "      <th>pay_amt6</th>\n",
       "      <th>default</th>\n",
       "    </tr>\n",
       "  </thead>\n",
       "  <tbody>\n",
       "    <tr>\n",
       "      <th>0</th>\n",
       "      <td>240000</td>\n",
       "      <td>male</td>\n",
       "      <td>graduate_school</td>\n",
       "      <td>married</td>\n",
       "      <td>41</td>\n",
       "      <td>duly</td>\n",
       "      <td>duly</td>\n",
       "      <td>duly</td>\n",
       "      <td>duly</td>\n",
       "      <td>duly</td>\n",
       "      <td>...</td>\n",
       "      <td>2430</td>\n",
       "      <td>7792</td>\n",
       "      <td>33196</td>\n",
       "      <td>16920</td>\n",
       "      <td>4774</td>\n",
       "      <td>2442</td>\n",
       "      <td>7829</td>\n",
       "      <td>33361</td>\n",
       "      <td>1076</td>\n",
       "      <td>0</td>\n",
       "    </tr>\n",
       "    <tr>\n",
       "      <th>1</th>\n",
       "      <td>90000</td>\n",
       "      <td>female</td>\n",
       "      <td>graduate_school</td>\n",
       "      <td>single</td>\n",
       "      <td>27</td>\n",
       "      <td>one_month_late</td>\n",
       "      <td>one_month_early</td>\n",
       "      <td>one_month_early</td>\n",
       "      <td>one_month_early</td>\n",
       "      <td>one_month_early</td>\n",
       "      <td>...</td>\n",
       "      <td>0</td>\n",
       "      <td>0</td>\n",
       "      <td>0</td>\n",
       "      <td>0</td>\n",
       "      <td>0</td>\n",
       "      <td>0</td>\n",
       "      <td>0</td>\n",
       "      <td>0</td>\n",
       "      <td>0</td>\n",
       "      <td>0</td>\n",
       "    </tr>\n",
       "    <tr>\n",
       "      <th>2</th>\n",
       "      <td>180000</td>\n",
       "      <td>female</td>\n",
       "      <td>graduate_school</td>\n",
       "      <td>single</td>\n",
       "      <td>33</td>\n",
       "      <td>unk</td>\n",
       "      <td>unk</td>\n",
       "      <td>unk</td>\n",
       "      <td>duly</td>\n",
       "      <td>duly</td>\n",
       "      <td>...</td>\n",
       "      <td>15000</td>\n",
       "      <td>14958</td>\n",
       "      <td>-42</td>\n",
       "      <td>9024</td>\n",
       "      <td>1104</td>\n",
       "      <td>15000</td>\n",
       "      <td>14958</td>\n",
       "      <td>0</td>\n",
       "      <td>0</td>\n",
       "      <td>0</td>\n",
       "    </tr>\n",
       "    <tr>\n",
       "      <th>3</th>\n",
       "      <td>100000</td>\n",
       "      <td>female</td>\n",
       "      <td>secondary</td>\n",
       "      <td>married</td>\n",
       "      <td>52</td>\n",
       "      <td>unk</td>\n",
       "      <td>unk</td>\n",
       "      <td>two_month_late</td>\n",
       "      <td>two_month_late</td>\n",
       "      <td>two_month_late</td>\n",
       "      <td>...</td>\n",
       "      <td>6781</td>\n",
       "      <td>6144</td>\n",
       "      <td>7638</td>\n",
       "      <td>1500</td>\n",
       "      <td>1000</td>\n",
       "      <td>1000</td>\n",
       "      <td>0</td>\n",
       "      <td>2000</td>\n",
       "      <td>2000</td>\n",
       "      <td>1</td>\n",
       "    </tr>\n",
       "    <tr>\n",
       "      <th>4</th>\n",
       "      <td>20000</td>\n",
       "      <td>male</td>\n",
       "      <td>graduate_school</td>\n",
       "      <td>single</td>\n",
       "      <td>23</td>\n",
       "      <td>unk</td>\n",
       "      <td>unk</td>\n",
       "      <td>three_month_late</td>\n",
       "      <td>two_month_late</td>\n",
       "      <td>two_month_late</td>\n",
       "      <td>...</td>\n",
       "      <td>19702</td>\n",
       "      <td>18395</td>\n",
       "      <td>18763</td>\n",
       "      <td>4000</td>\n",
       "      <td>1</td>\n",
       "      <td>651</td>\n",
       "      <td>0</td>\n",
       "      <td>655</td>\n",
       "      <td>653</td>\n",
       "      <td>0</td>\n",
       "    </tr>\n",
       "  </tbody>\n",
       "</table>\n",
       "<p>5 rows × 24 columns</p>\n",
       "</div>"
      ],
      "text/plain": [
       "   limit_bal     sex        education marriage  age           pay_0  \\\n",
       "0     240000    male  graduate_school  married   41            duly   \n",
       "1      90000  female  graduate_school   single   27  one_month_late   \n",
       "2     180000  female  graduate_school   single   33             unk   \n",
       "3     100000  female        secondary  married   52             unk   \n",
       "4      20000    male  graduate_school   single   23             unk   \n",
       "\n",
       "             pay_2             pay_3            pay_4            pay_5  ...  \\\n",
       "0             duly              duly             duly             duly  ...   \n",
       "1  one_month_early   one_month_early  one_month_early  one_month_early  ...   \n",
       "2              unk               unk             duly             duly  ...   \n",
       "3              unk    two_month_late   two_month_late   two_month_late  ...   \n",
       "4              unk  three_month_late   two_month_late   two_month_late  ...   \n",
       "\n",
       "  bill_amt4  bill_amt5  bill_amt6  pay_amt1  pay_amt2  pay_amt3  pay_amt4  \\\n",
       "0      2430       7792      33196     16920      4774      2442      7829   \n",
       "1         0          0          0         0         0         0         0   \n",
       "2     15000      14958        -42      9024      1104     15000     14958   \n",
       "3      6781       6144       7638      1500      1000      1000         0   \n",
       "4     19702      18395      18763      4000         1       651         0   \n",
       "\n",
       "   pay_amt5  pay_amt6  default  \n",
       "0     33361      1076        0  \n",
       "1         0         0        0  \n",
       "2         0         0        0  \n",
       "3      2000      2000        1  \n",
       "4       655       653        0  \n",
       "\n",
       "[5 rows x 24 columns]"
      ]
     },
     "execution_count": 35,
     "metadata": {},
     "output_type": "execute_result"
    }
   ],
   "source": [
    "df_val.head()"
   ]
  },
  {
   "cell_type": "code",
   "execution_count": 36,
   "id": "703b2e0d",
   "metadata": {},
   "outputs": [],
   "source": [
    "y_train = df_train.default.values\n",
    "y_val = df_val.default.values\n",
    "y_test = df_test.default.values"
   ]
  },
  {
   "cell_type": "code",
   "execution_count": 37,
   "id": "76c14eb4",
   "metadata": {},
   "outputs": [],
   "source": [
    "df_train = df_train.drop('default', axis=1)\n",
    "df_val = df_val.drop('default', axis=1)\n",
    "df_test = df_test.drop('default', axis=1)"
   ]
  },
  {
   "cell_type": "code",
   "execution_count": 38,
   "id": "fbfaab30",
   "metadata": {},
   "outputs": [],
   "source": [
    "# ROC AUC could also be used to evaluate feature importance of numerical variables.\n"
   ]
  },
  {
   "cell_type": "code",
   "execution_count": 39,
   "id": "2be6b045",
   "metadata": {},
   "outputs": [
    {
     "name": "stdout",
     "output_type": "stream",
     "text": [
      "limit_bal, 0.616\n",
      "      age, 0.506\n",
      "bill_amt1, 0.520\n",
      "bill_amt2, 0.513\n",
      "bill_amt3, 0.511\n",
      "bill_amt4, 0.505\n",
      "bill_amt5, 0.503\n",
      "bill_amt6, 0.502\n",
      " pay_amt1, 0.612\n",
      " pay_amt2, 0.603\n",
      " pay_amt3, 0.592\n",
      " pay_amt4, 0.584\n",
      " pay_amt5, 0.582\n",
      " pay_amt6, 0.583\n"
     ]
    }
   ],
   "source": [
    "for c in numerical:\n",
    "    auc = roc_auc_score(y_train, df_train[c])\n",
    "    if auc < 0.5:\n",
    "        auc = roc_auc_score(y_train, -df_train[c])\n",
    "    print('%9s, %.3f' % (c, auc))"
   ]
  },
  {
   "cell_type": "code",
   "execution_count": 40,
   "id": "9aab669d",
   "metadata": {},
   "outputs": [
    {
     "data": {
      "image/png": "[encoded data removed]",
      "text/plain": [
       "<Figure size 360x360 with 1 Axes>"
      ]
     },
     "metadata": {
      "needs_background": "light"
     },
     "output_type": "display_data"
    }
   ],
   "source": [
    "plt.figure(figsize=(5, 5))\n",
    "\n",
    "fpr, tpr, _ = roc_curve(y_train, df_train.limit_bal)\n",
    "plt.plot(fpr, tpr, label='+limit_bal')\n",
    "\n",
    "fpr, tpr, _ = roc_curve(y_train, -df_train.limit_bal)\n",
    "plt.plot(fpr, tpr, label='-limit_bal')\n",
    "\n",
    "plt.plot([0, 1], [0, 1], color='grey', linestyle='--')\n",
    "\n",
    "plt.legend()\n",
    "plt.show()"
   ]
  },
  {
   "cell_type": "markdown",
   "id": "d6c0e362",
   "metadata": {},
   "source": [
    "see that there's separation in distribution of seniority between positive and negative classes (this is what AUC tells us about)"
   ]
  },
  {
   "cell_type": "code",
   "execution_count": 41,
   "id": "02d0485e",
   "metadata": {},
   "outputs": [
    {
     "data": {
      "image/png": "[encoded data removed]",
      "text/plain": [
       "<Figure size 432x288 with 1 Axes>"
      ]
     },
     "metadata": {
      "needs_background": "light"
     },
     "output_type": "display_data"
    }
   ],
   "source": [
    "sns.histplot(df_train.limit_bal[y_train == 1],\n",
    "             stat='density', bins=50,\n",
    "             color='orange', alpha=0.5,\n",
    "             label='positive')\n",
    "sns.histplot(df_train.limit_bal[y_train == 0],\n",
    "             stat='density', bins=50,\n",
    "             color='blue', alpha=0.5,\n",
    "             label='negative')\n",
    "\n",
    "plt.legend()\n",
    "plt.show()"
   ]
  },
  {
   "cell_type": "code",
   "execution_count": null,
   "id": "5b1a856c",
   "metadata": {},
   "outputs": [],
   "source": []
  },
  {
   "cell_type": "code",
   "execution_count": 42,
   "id": "a2296471",
   "metadata": {},
   "outputs": [
    {
     "data": {
      "text/plain": [
       "LogisticRegression(max_iter=1000, solver='liblinear')"
      ]
     },
     "execution_count": 42,
     "metadata": {},
     "output_type": "execute_result"
    }
   ],
   "source": [
    "train_dict = df_train[categorical + numerical].to_dict(orient='records')\n",
    "dv = DictVectorizer(sparse=False)\n",
    "X_train = dv.fit_transform(train_dict)\n",
    "\n",
    "model = LogisticRegression(solver='liblinear', C=1.0, max_iter=1000)\n",
    "model.fit(X_train, y_train)"
   ]
  },
  {
   "cell_type": "code",
   "execution_count": 43,
   "id": "7ef9c270",
   "metadata": {},
   "outputs": [],
   "source": [
    "val_dicts = df_val[categorical + numerical].to_dict(orient='records')\n",
    "X_val = dv.transform(val_dicts)"
   ]
  },
  {
   "cell_type": "code",
   "execution_count": 44,
   "id": "16d1b512",
   "metadata": {},
   "outputs": [],
   "source": [
    "y_pred = model.predict_proba(X_val)[:, 1]"
   ]
  },
  {
   "cell_type": "code",
   "execution_count": 45,
   "id": "42509750",
   "metadata": {},
   "outputs": [
    {
     "data": {
      "text/plain": [
       "0.78"
      ]
     },
     "execution_count": 45,
     "metadata": {},
     "output_type": "execute_result"
    }
   ],
   "source": [
    "accuracy_score(y_val, y_pred >= 0.5).round(3)"
   ]
  },
  {
   "cell_type": "code",
   "execution_count": 46,
   "id": "db16e085",
   "metadata": {},
   "outputs": [
    {
     "data": {
      "text/plain": [
       "array(['age', 'bill_amt1', 'bill_amt2', 'bill_amt3', 'bill_amt4',\n",
       "       'bill_amt5', 'bill_amt6', 'education=graduate_school',\n",
       "       'education=others', 'education=primary', 'education=secondary',\n",
       "       'education=university', 'education=unk', 'education=vocational',\n",
       "       'limit_bal', 'marriage=married', 'marriage=others',\n",
       "       'marriage=single', 'marriage=unk', 'pay_0', 'pay_0=duly',\n",
       "       'pay_0=five_month_late', 'pay_0=four_month_late',\n",
       "       'pay_0=one_month_early', 'pay_0=one_month_late',\n",
       "       'pay_0=seven_month_late', 'pay_0=six_month_late',\n",
       "       'pay_0=three_month_late', 'pay_0=two_month_late', 'pay_0=unk',\n",
       "       'pay_2=duly', 'pay_2=five_month_late', 'pay_2=four_month_late',\n",
       "       'pay_2=one_month_early', 'pay_2=one_month_late',\n",
       "       'pay_2=seven_month_late', 'pay_2=six_month_late',\n",
       "       'pay_2=three_month_late', 'pay_2=two_month_late', 'pay_2=unk',\n",
       "       'pay_3', 'pay_3=duly', 'pay_3=five_month_late',\n",
       "       'pay_3=four_month_late', 'pay_3=one_month_early',\n",
       "       'pay_3=one_month_late', 'pay_3=seven_month_late',\n",
       "       'pay_3=six_month_late', 'pay_3=three_month_late',\n",
       "       'pay_3=two_month_late', 'pay_3=unk', 'pay_4', 'pay_4=duly',\n",
       "       'pay_4=five_month_late', 'pay_4=four_month_late',\n",
       "       'pay_4=one_month_early', 'pay_4=one_month_late',\n",
       "       'pay_4=seven_month_late', 'pay_4=six_month_late',\n",
       "       'pay_4=three_month_late', 'pay_4=two_month_late', 'pay_4=unk',\n",
       "       'pay_5', 'pay_5=duly', 'pay_5=five_month_late',\n",
       "       'pay_5=four_month_late', 'pay_5=one_month_early',\n",
       "       'pay_5=seven_month_late', 'pay_5=six_month_late',\n",
       "       'pay_5=three_month_late', 'pay_5=two_month_late', 'pay_5=unk',\n",
       "       'pay_6', 'pay_6=duly', 'pay_6=five_month_late',\n",
       "       'pay_6=four_month_late', 'pay_6=one_month_early',\n",
       "       'pay_6=seven_month_late', 'pay_6=six_month_late',\n",
       "       'pay_6=three_month_late', 'pay_6=two_month_late', 'pay_6=unk',\n",
       "       'pay_amt1', 'pay_amt2', 'pay_amt3', 'pay_amt4', 'pay_amt5',\n",
       "       'pay_amt6', 'sex=female', 'sex=male'], dtype=object)"
      ]
     },
     "execution_count": 46,
     "metadata": {},
     "output_type": "execute_result"
    }
   ],
   "source": [
    "dv.get_feature_names_out()"
   ]
  },
  {
   "cell_type": "markdown",
   "id": "49281fa2",
   "metadata": {},
   "source": [
    "## Using the model"
   ]
  },
  {
   "cell_type": "code",
   "execution_count": 47,
   "id": "78991f0e",
   "metadata": {},
   "outputs": [],
   "source": [
    "full_train_dict = df_full_train[categorical + numerical].to_dict(orient='records')\n",
    "dv = DictVectorizer(sparse=False)\n",
    "\n",
    "X_full_train = dv.fit_transform(full_train_dict)"
   ]
  },
  {
   "cell_type": "code",
   "execution_count": 48,
   "id": "f164bc85",
   "metadata": {},
   "outputs": [
    {
     "data": {
      "text/plain": [
       "array([ 20000,  50000, 180000, ...,  50000,  80000, 300000], dtype=int64)"
      ]
     },
     "execution_count": 48,
     "metadata": {},
     "output_type": "execute_result"
    }
   ],
   "source": [
    "df_full_train.limit_bal.values"
   ]
  },
  {
   "cell_type": "code",
   "execution_count": 49,
   "id": "ea32921a",
   "metadata": {},
   "outputs": [],
   "source": [
    "y_full_train = df_full_train.default.values"
   ]
  },
  {
   "cell_type": "code",
   "execution_count": 50,
   "id": "c8de945e",
   "metadata": {},
   "outputs": [
    {
     "data": {
      "text/plain": [
       "24000"
      ]
     },
     "execution_count": 50,
     "metadata": {},
     "output_type": "execute_result"
    }
   ],
   "source": [
    "len(X_full_train)"
   ]
  },
  {
   "cell_type": "code",
   "execution_count": 51,
   "id": "daa1c31b",
   "metadata": {},
   "outputs": [
    {
     "data": {
      "text/plain": [
       "LogisticRegression(max_iter=1000, solver='liblinear')"
      ]
     },
     "execution_count": 51,
     "metadata": {},
     "output_type": "execute_result"
    }
   ],
   "source": [
    "model = LogisticRegression(solver='liblinear', C=1.0, max_iter=1000)\n",
    "model.fit(X_full_train, y_full_train)"
   ]
  },
  {
   "cell_type": "code",
   "execution_count": 52,
   "id": "a6e70f1a",
   "metadata": {},
   "outputs": [],
   "source": [
    "test_dict = df_test[categorical + numerical].to_dict(orient='records')\n",
    "X_test = dv.transform(test_dict)"
   ]
  },
  {
   "cell_type": "code",
   "execution_count": 53,
   "id": "db77ed5b",
   "metadata": {},
   "outputs": [],
   "source": [
    "y_pred = model.predict_proba(X_test)[:, 1]"
   ]
  },
  {
   "cell_type": "code",
   "execution_count": 54,
   "id": "40685daa",
   "metadata": {},
   "outputs": [
    {
     "data": {
      "text/plain": [
       "array([False, False, False, ..., False, False, False])"
      ]
     },
     "execution_count": 54,
     "metadata": {},
     "output_type": "execute_result"
    }
   ],
   "source": [
    "default = (y_pred >= 0.5)\n",
    "default"
   ]
  },
  {
   "cell_type": "code",
   "execution_count": 55,
   "id": "57ceb87d",
   "metadata": {},
   "outputs": [
    {
     "data": {
      "text/plain": [
       "0.7798333333333334"
      ]
     },
     "execution_count": 55,
     "metadata": {},
     "output_type": "execute_result"
    }
   ],
   "source": [
    "(default == y_val).mean()"
   ]
  },
  {
   "cell_type": "code",
   "execution_count": 56,
   "id": "45eb491f",
   "metadata": {},
   "outputs": [
    {
     "data": {
      "text/plain": [
       "6000"
      ]
     },
     "execution_count": 56,
     "metadata": {},
     "output_type": "execute_result"
    }
   ],
   "source": [
    "len(y_val)"
   ]
  },
  {
   "cell_type": "markdown",
   "id": "8abe8917",
   "metadata": {},
   "source": [
    "We has 78% accuracy on the test set! a little bit better than the validation set and this is really encouraging!"
   ]
  },
  {
   "cell_type": "code",
   "execution_count": 57,
   "id": "56376a8d",
   "metadata": {},
   "outputs": [],
   "source": [
    "from sklearn.metrics import accuracy_score"
   ]
  },
  {
   "cell_type": "code",
   "execution_count": 58,
   "id": "b5eaeaa0",
   "metadata": {},
   "outputs": [
    {
     "data": {
      "text/plain": [
       "0.78"
      ]
     },
     "execution_count": 58,
     "metadata": {},
     "output_type": "execute_result"
    }
   ],
   "source": [
    "(y_val == default).mean().round(3)"
   ]
  },
  {
   "cell_type": "code",
   "execution_count": 59,
   "id": "c1938425",
   "metadata": {},
   "outputs": [
    {
     "data": {
      "text/plain": [
       "0.78"
      ]
     },
     "execution_count": 59,
     "metadata": {},
     "output_type": "execute_result"
    }
   ],
   "source": [
    "accuracy_score(y_val, y_pred >= 0.5).round(3)"
   ]
  },
  {
   "cell_type": "code",
   "execution_count": 60,
   "id": "723e51ce",
   "metadata": {},
   "outputs": [
    {
     "data": {
      "text/plain": [
       "array([0, 1, 0, ..., 0, 0, 0])"
      ]
     },
     "execution_count": 60,
     "metadata": {},
     "output_type": "execute_result"
    }
   ],
   "source": [
    "y_test"
   ]
  },
  {
   "cell_type": "code",
   "execution_count": 61,
   "id": "6076e8f2",
   "metadata": {},
   "outputs": [
    {
     "name": "stdout",
     "output_type": "stream",
     "text": [
      "0.00, 0.220\n",
      "0.05, 0.251\n",
      "0.10, 0.286\n",
      "0.15, 0.345\n",
      "0.20, 0.425\n",
      "0.25, 0.510\n",
      "0.30, 0.609\n",
      "0.35, 0.709\n",
      "0.40, 0.774\n",
      "0.45, 0.780\n",
      "0.50, 0.780\n",
      "0.55, 0.780\n",
      "0.60, 0.780\n",
      "0.65, 0.780\n",
      "0.70, 0.780\n",
      "0.75, 0.780\n",
      "0.80, 0.780\n",
      "0.85, 0.780\n",
      "0.90, 0.780\n",
      "0.95, 0.780\n",
      "1.00, 0.780\n"
     ]
    }
   ],
   "source": [
    "thresholds = np.linspace(0, 1, 21)\n",
    "\n",
    "scores = []\n",
    "\n",
    "for t in thresholds:\n",
    "    default = (y_pred >= t)\n",
    "    score = (default == y_val).mean()\n",
    "    scores.append(score)\n",
    "    print('%.2f, %.3f' % (t, score))"
   ]
  },
  {
   "cell_type": "code",
   "execution_count": 62,
   "id": "56d10e76",
   "metadata": {},
   "outputs": [
    {
     "data": {
      "text/plain": [
       "array([0.  , 0.05, 0.1 , 0.15, 0.2 , 0.25, 0.3 , 0.35, 0.4 , 0.45, 0.5 ,\n",
       "       0.55, 0.6 , 0.65, 0.7 , 0.75, 0.8 , 0.85, 0.9 , 0.95, 1.  ])"
      ]
     },
     "execution_count": 62,
     "metadata": {},
     "output_type": "execute_result"
    }
   ],
   "source": [
    "thresholds"
   ]
  },
  {
   "cell_type": "code",
   "execution_count": 63,
   "id": "439ff232",
   "metadata": {},
   "outputs": [
    {
     "data": {
      "text/plain": [
       "[<matplotlib.lines.Line2D at 0x23f67450608>]"
      ]
     },
     "execution_count": 63,
     "metadata": {},
     "output_type": "execute_result"
    },
    {
     "data": {
      "image/png": "[encoded data removed]",
      "text/plain": [
       "<Figure size 432x288 with 1 Axes>"
      ]
     },
     "metadata": {
      "needs_background": "light"
     },
     "output_type": "display_data"
    }
   ],
   "source": [
    "plt.plot(thresholds, scores)"
   ]
  },
  {
   "cell_type": "code",
   "execution_count": null,
   "id": "feb37bdb",
   "metadata": {},
   "outputs": [],
   "source": []
  },
  {
   "cell_type": "code",
   "execution_count": 64,
   "id": "c1ea4c40",
   "metadata": {},
   "outputs": [
    {
     "data": {
      "text/plain": [
       "Counter({False: 6000})"
      ]
     },
     "execution_count": 64,
     "metadata": {},
     "output_type": "execute_result"
    }
   ],
   "source": [
    "Counter(y_pred >=1.0)"
   ]
  },
  {
   "cell_type": "code",
   "execution_count": 65,
   "id": "20218406",
   "metadata": {},
   "outputs": [
    {
     "data": {
      "text/plain": [
       "0.7798333333333334"
      ]
     },
     "execution_count": 65,
     "metadata": {},
     "output_type": "execute_result"
    }
   ],
   "source": [
    "1- y_val.mean() # 78% are not defaulters"
   ]
  },
  {
   "cell_type": "code",
   "execution_count": 66,
   "id": "f40060f4",
   "metadata": {},
   "outputs": [],
   "source": [
    "actual_positive = (y_val == 1)\n",
    "actual_negative = (y_val == 0)"
   ]
  },
  {
   "cell_type": "code",
   "execution_count": 67,
   "id": "11f83146",
   "metadata": {},
   "outputs": [],
   "source": [
    "t = 0.5\n",
    "predict_positive = (y_pred >= t)\n",
    "predict_negative = (y_pred < t)"
   ]
  },
  {
   "cell_type": "code",
   "execution_count": 68,
   "id": "89bc9bf1",
   "metadata": {},
   "outputs": [],
   "source": [
    "# tp - true positive, tn - true negative, fp - false positive, fn - false negative.\n",
    "tp = (predict_positive & actual_positive).sum()\n",
    "tn = (predict_negative & actual_negative).sum()\n",
    "\n",
    "fp = (predict_positive & actual_negative).sum()\n",
    "fn = (predict_negative & actual_positive).sum()"
   ]
  },
  {
   "cell_type": "code",
   "execution_count": 69,
   "id": "b763124d",
   "metadata": {},
   "outputs": [
    {
     "data": {
      "text/plain": [
       "array([[4679,    0],\n",
       "       [1321,    0]])"
      ]
     },
     "execution_count": 69,
     "metadata": {},
     "output_type": "execute_result"
    }
   ],
   "source": [
    "confusion_matrix = np.array([\n",
    "    [tn, fp],\n",
    "    [fn, tp]\n",
    "])\n",
    "confusion_matrix"
   ]
  },
  {
   "cell_type": "code",
   "execution_count": 70,
   "id": "1b7e9f43",
   "metadata": {},
   "outputs": [
    {
     "data": {
      "text/plain": [
       "array([[0.78, 0.  ],\n",
       "       [0.22, 0.  ]])"
      ]
     },
     "execution_count": 70,
     "metadata": {},
     "output_type": "execute_result"
    }
   ],
   "source": [
    "(confusion_matrix / confusion_matrix.sum()).round(2)"
   ]
  },
  {
   "cell_type": "code",
   "execution_count": 71,
   "id": "e53d7842",
   "metadata": {},
   "outputs": [
    {
     "data": {
      "text/plain": [
       "0.0"
      ]
     },
     "execution_count": 71,
     "metadata": {},
     "output_type": "execute_result"
    }
   ],
   "source": [
    "# r - recall\n",
    "r = tp / (tp + fn)\n",
    "r"
   ]
  },
  {
   "cell_type": "code",
   "execution_count": 72,
   "id": "0653f864",
   "metadata": {},
   "outputs": [],
   "source": [
    "def tpr_fpr_dataframe(y_val, y_pred):\n",
    "    scores = []\n",
    "    thresholds = np.linspace(0, 1, 101)\n",
    "\n",
    "    for t in thresholds:\n",
    "        actual_positive = (y_val == 1)\n",
    "        actual_negative = (y_val == 0)\n",
    "\n",
    "        predict_positive = (y_pred >= t)\n",
    "        predict_negative = (y_pred < t)\n",
    "\n",
    "        # tp - true positive, tn - true negative, fp - false positive, fn - false negative.\n",
    "        tp = (predict_positive & actual_positive).sum()\n",
    "        tn = (predict_negative & actual_negative).sum()\n",
    "\n",
    "        fp = (predict_positive & actual_negative).sum()\n",
    "        fn = (predict_negative & actual_positive).sum()\n",
    "\n",
    "        scores.append((t, tp, fp, fn, tn))\n",
    "        \n",
    "        df_scores = pd.DataFrame(scores, columns = ['threshold', 'tp', 'fp', 'fn', 'tn'])\n",
    "        \n",
    "        df_scores['tpr'] = df_scores.tp / (df_scores.tp + df_scores.fn)\n",
    "        df_scores['fpr'] = df_scores.fp / (df_scores.fp + df_scores.tn)\n",
    "        \n",
    "    return df_scores"
   ]
  },
  {
   "cell_type": "code",
   "execution_count": 73,
   "id": "e3144a52",
   "metadata": {},
   "outputs": [],
   "source": [
    "df_scores = tpr_fpr_dataframe(y_val, y_pred)"
   ]
  },
  {
   "cell_type": "code",
   "execution_count": 74,
   "id": "c6fd154a",
   "metadata": {},
   "outputs": [],
   "source": [
    "df_scores['p'] = df_scores.tp / (df_scores.tp + df_scores.fp)\n",
    "df_scores['r'] = df_scores.tp / (df_scores.tp + df_scores.fn)"
   ]
  },
  {
   "cell_type": "code",
   "execution_count": 75,
   "id": "e79f7295",
   "metadata": {},
   "outputs": [
    {
     "data": {
      "text/html": [
       "<div>\n",
       "<style scoped>\n",
       "    .dataframe tbody tr th:only-of-type {\n",
       "        vertical-align: middle;\n",
       "    }\n",
       "\n",
       "    .dataframe tbody tr th {\n",
       "        vertical-align: top;\n",
       "    }\n",
       "\n",
       "    .dataframe thead th {\n",
       "        text-align: right;\n",
       "    }\n",
       "</style>\n",
       "<table border=\"1\" class=\"dataframe\">\n",
       "  <thead>\n",
       "    <tr style=\"text-align: right;\">\n",
       "      <th></th>\n",
       "      <th>threshold</th>\n",
       "      <th>tp</th>\n",
       "      <th>fp</th>\n",
       "      <th>fn</th>\n",
       "      <th>tn</th>\n",
       "      <th>tpr</th>\n",
       "      <th>fpr</th>\n",
       "      <th>p</th>\n",
       "      <th>r</th>\n",
       "    </tr>\n",
       "  </thead>\n",
       "  <tbody>\n",
       "    <tr>\n",
       "      <th>0</th>\n",
       "      <td>0.0</td>\n",
       "      <td>1321</td>\n",
       "      <td>4679</td>\n",
       "      <td>0</td>\n",
       "      <td>0</td>\n",
       "      <td>1.000000</td>\n",
       "      <td>1.000000</td>\n",
       "      <td>0.220167</td>\n",
       "      <td>1.000000</td>\n",
       "    </tr>\n",
       "    <tr>\n",
       "      <th>10</th>\n",
       "      <td>0.1</td>\n",
       "      <td>1154</td>\n",
       "      <td>4116</td>\n",
       "      <td>167</td>\n",
       "      <td>563</td>\n",
       "      <td>0.873581</td>\n",
       "      <td>0.879675</td>\n",
       "      <td>0.218975</td>\n",
       "      <td>0.873581</td>\n",
       "    </tr>\n",
       "    <tr>\n",
       "      <th>20</th>\n",
       "      <td>0.2</td>\n",
       "      <td>878</td>\n",
       "      <td>3004</td>\n",
       "      <td>443</td>\n",
       "      <td>1675</td>\n",
       "      <td>0.664648</td>\n",
       "      <td>0.642018</td>\n",
       "      <td>0.226172</td>\n",
       "      <td>0.664648</td>\n",
       "    </tr>\n",
       "    <tr>\n",
       "      <th>30</th>\n",
       "      <td>0.3</td>\n",
       "      <td>385</td>\n",
       "      <td>1408</td>\n",
       "      <td>936</td>\n",
       "      <td>3271</td>\n",
       "      <td>0.291446</td>\n",
       "      <td>0.300919</td>\n",
       "      <td>0.214724</td>\n",
       "      <td>0.291446</td>\n",
       "    </tr>\n",
       "    <tr>\n",
       "      <th>40</th>\n",
       "      <td>0.4</td>\n",
       "      <td>6</td>\n",
       "      <td>43</td>\n",
       "      <td>1315</td>\n",
       "      <td>4636</td>\n",
       "      <td>0.004542</td>\n",
       "      <td>0.009190</td>\n",
       "      <td>0.122449</td>\n",
       "      <td>0.004542</td>\n",
       "    </tr>\n",
       "    <tr>\n",
       "      <th>50</th>\n",
       "      <td>0.5</td>\n",
       "      <td>0</td>\n",
       "      <td>0</td>\n",
       "      <td>1321</td>\n",
       "      <td>4679</td>\n",
       "      <td>0.000000</td>\n",
       "      <td>0.000000</td>\n",
       "      <td>NaN</td>\n",
       "      <td>0.000000</td>\n",
       "    </tr>\n",
       "    <tr>\n",
       "      <th>60</th>\n",
       "      <td>0.6</td>\n",
       "      <td>0</td>\n",
       "      <td>0</td>\n",
       "      <td>1321</td>\n",
       "      <td>4679</td>\n",
       "      <td>0.000000</td>\n",
       "      <td>0.000000</td>\n",
       "      <td>NaN</td>\n",
       "      <td>0.000000</td>\n",
       "    </tr>\n",
       "    <tr>\n",
       "      <th>70</th>\n",
       "      <td>0.7</td>\n",
       "      <td>0</td>\n",
       "      <td>0</td>\n",
       "      <td>1321</td>\n",
       "      <td>4679</td>\n",
       "      <td>0.000000</td>\n",
       "      <td>0.000000</td>\n",
       "      <td>NaN</td>\n",
       "      <td>0.000000</td>\n",
       "    </tr>\n",
       "    <tr>\n",
       "      <th>80</th>\n",
       "      <td>0.8</td>\n",
       "      <td>0</td>\n",
       "      <td>0</td>\n",
       "      <td>1321</td>\n",
       "      <td>4679</td>\n",
       "      <td>0.000000</td>\n",
       "      <td>0.000000</td>\n",
       "      <td>NaN</td>\n",
       "      <td>0.000000</td>\n",
       "    </tr>\n",
       "    <tr>\n",
       "      <th>90</th>\n",
       "      <td>0.9</td>\n",
       "      <td>0</td>\n",
       "      <td>0</td>\n",
       "      <td>1321</td>\n",
       "      <td>4679</td>\n",
       "      <td>0.000000</td>\n",
       "      <td>0.000000</td>\n",
       "      <td>NaN</td>\n",
       "      <td>0.000000</td>\n",
       "    </tr>\n",
       "    <tr>\n",
       "      <th>100</th>\n",
       "      <td>1.0</td>\n",
       "      <td>0</td>\n",
       "      <td>0</td>\n",
       "      <td>1321</td>\n",
       "      <td>4679</td>\n",
       "      <td>0.000000</td>\n",
       "      <td>0.000000</td>\n",
       "      <td>NaN</td>\n",
       "      <td>0.000000</td>\n",
       "    </tr>\n",
       "  </tbody>\n",
       "</table>\n",
       "</div>"
      ],
      "text/plain": [
       "     threshold    tp    fp    fn    tn       tpr       fpr         p         r\n",
       "0          0.0  1321  4679     0     0  1.000000  1.000000  0.220167  1.000000\n",
       "10         0.1  1154  4116   167   563  0.873581  0.879675  0.218975  0.873581\n",
       "20         0.2   878  3004   443  1675  0.664648  0.642018  0.226172  0.664648\n",
       "30         0.3   385  1408   936  3271  0.291446  0.300919  0.214724  0.291446\n",
       "40         0.4     6    43  1315  4636  0.004542  0.009190  0.122449  0.004542\n",
       "50         0.5     0     0  1321  4679  0.000000  0.000000       NaN  0.000000\n",
       "60         0.6     0     0  1321  4679  0.000000  0.000000       NaN  0.000000\n",
       "70         0.7     0     0  1321  4679  0.000000  0.000000       NaN  0.000000\n",
       "80         0.8     0     0  1321  4679  0.000000  0.000000       NaN  0.000000\n",
       "90         0.9     0     0  1321  4679  0.000000  0.000000       NaN  0.000000\n",
       "100        1.0     0     0  1321  4679  0.000000  0.000000       NaN  0.000000"
      ]
     },
     "execution_count": 75,
     "metadata": {},
     "output_type": "execute_result"
    }
   ],
   "source": [
    "df_scores[::10]"
   ]
  },
  {
   "cell_type": "code",
   "execution_count": 76,
   "id": "a764e390",
   "metadata": {},
   "outputs": [
    {
     "data": {
      "text/plain": [
       "0.78"
      ]
     },
     "execution_count": 76,
     "metadata": {},
     "output_type": "execute_result"
    }
   ],
   "source": [
    "accuracy_score(y_val, y_pred >= 0.5).round(3)"
   ]
  },
  {
   "cell_type": "code",
   "execution_count": null,
   "id": "3f7a4628",
   "metadata": {},
   "outputs": [],
   "source": []
  },
  {
   "cell_type": "code",
   "execution_count": 77,
   "id": "d85604ba",
   "metadata": {},
   "outputs": [],
   "source": [
    "fpr, tpr, thresholds = roc_curve(y_val, y_pred)"
   ]
  },
  {
   "cell_type": "code",
   "execution_count": 78,
   "id": "319d9865",
   "metadata": {},
   "outputs": [
    {
     "data": {
      "text/plain": [
       "<matplotlib.legend.Legend at 0x23f64434188>"
      ]
     },
     "execution_count": 78,
     "metadata": {},
     "output_type": "execute_result"
    },
    {
     "data": {
      "image/png": "[encoded data removed]",
      "text/plain": [
       "<Figure size 360x360 with 1 Axes>"
      ]
     },
     "metadata": {
      "needs_background": "light"
     },
     "output_type": "display_data"
    }
   ],
   "source": [
    "plt.figure(figsize=(5,5))\n",
    "\n",
    "plt.plot(fpr, tpr, label='model')\n",
    "plt.plot([0,1], [0,1], label='random', linestyle='--')\n",
    "\n",
    "plt.xlabel('FPR')\n",
    "plt.ylabel('TPR')\n",
    "\n",
    "plt.legend()"
   ]
  },
  {
   "cell_type": "markdown",
   "id": "fe01bea0",
   "metadata": {},
   "source": [
    "### Predictions using the model"
   ]
  },
  {
   "cell_type": "code",
   "execution_count": 80,
   "id": "9fb6dade",
   "metadata": {},
   "outputs": [
    {
     "data": {
      "text/plain": [
       "{'sex': 'female',\n",
       " 'education': 'secondary',\n",
       " 'marriage': 'single',\n",
       " 'pay_0': 'two_month_late',\n",
       " 'pay_2': 'unk',\n",
       " 'pay_3': 'unk',\n",
       " 'pay_4': 'unk',\n",
       " 'pay_5': 'unk',\n",
       " 'pay_6': 'unk',\n",
       " 'limit_bal': 100000,\n",
       " 'age': 26,\n",
       " 'bill_amt1': 107643,\n",
       " 'bill_amt2': 109895,\n",
       " 'bill_amt3': 93420,\n",
       " 'bill_amt4': 73119,\n",
       " 'bill_amt5': 73642,\n",
       " 'bill_amt6': 71579,\n",
       " 'pay_amt1': 4048,\n",
       " 'pay_amt2': 3105,\n",
       " 'pay_amt3': 2700,\n",
       " 'pay_amt4': 2510,\n",
       " 'pay_amt5': 2703,\n",
       " 'pay_amt6': 2700}"
      ]
     },
     "execution_count": 80,
     "metadata": {},
     "output_type": "execute_result"
    }
   ],
   "source": [
    "selected_user = 100\n",
    "customer = test_dict[selected_user]\n",
    "customer"
   ]
  },
  {
   "cell_type": "code",
   "execution_count": 75,
   "id": "22381a17",
   "metadata": {},
   "outputs": [],
   "source": [
    "X_one_person = dv.transform([customer])"
   ]
  },
  {
   "cell_type": "code",
   "execution_count": 76,
   "id": "c2dcc93a",
   "metadata": {},
   "outputs": [
    {
     "data": {
      "text/plain": [
       "array([[2.90000e+01, 1.82202e+05, 1.62547e+05, 1.40911e+05, 1.11881e+05,\n",
       "        7.87590e+04, 7.88770e+04, 0.00000e+00, 0.00000e+00, 0.00000e+00,\n",
       "        0.00000e+00, 1.00000e+00, 0.00000e+00, 0.00000e+00, 3.10000e+05,\n",
       "        1.00000e+00, 0.00000e+00, 0.00000e+00, 0.00000e+00, 0.00000e+00,\n",
       "        0.00000e+00, 0.00000e+00, 0.00000e+00, 0.00000e+00, 0.00000e+00,\n",
       "        0.00000e+00, 0.00000e+00, 0.00000e+00, 0.00000e+00, 1.00000e+00,\n",
       "        0.00000e+00, 0.00000e+00, 0.00000e+00, 0.00000e+00, 0.00000e+00,\n",
       "        0.00000e+00, 0.00000e+00, 0.00000e+00, 0.00000e+00, 1.00000e+00,\n",
       "        0.00000e+00, 0.00000e+00, 0.00000e+00, 0.00000e+00, 0.00000e+00,\n",
       "        0.00000e+00, 0.00000e+00, 0.00000e+00, 0.00000e+00, 0.00000e+00,\n",
       "        1.00000e+00, 0.00000e+00, 0.00000e+00, 0.00000e+00, 0.00000e+00,\n",
       "        0.00000e+00, 0.00000e+00, 0.00000e+00, 0.00000e+00, 0.00000e+00,\n",
       "        0.00000e+00, 1.00000e+00, 0.00000e+00, 0.00000e+00, 0.00000e+00,\n",
       "        0.00000e+00, 0.00000e+00, 0.00000e+00, 0.00000e+00, 0.00000e+00,\n",
       "        0.00000e+00, 1.00000e+00, 0.00000e+00, 0.00000e+00, 0.00000e+00,\n",
       "        0.00000e+00, 0.00000e+00, 0.00000e+00, 0.00000e+00, 0.00000e+00,\n",
       "        0.00000e+00, 1.00000e+00, 5.11800e+03, 3.75800e+03, 3.90100e+03,\n",
       "        2.20600e+03, 3.08900e+03, 3.02300e+03, 0.00000e+00, 1.00000e+00]])"
      ]
     },
     "execution_count": 76,
     "metadata": {},
     "output_type": "execute_result"
    }
   ],
   "source": [
    "X_one_person"
   ]
  },
  {
   "cell_type": "code",
   "execution_count": 77,
   "id": "25b1adb6",
   "metadata": {},
   "outputs": [
    {
     "data": {
      "text/plain": [
       "0.1508081989037068"
      ]
     },
     "execution_count": 77,
     "metadata": {},
     "output_type": "execute_result"
    }
   ],
   "source": [
    "payment_prob = model.predict_proba(X_one_person)[0,1]\n",
    "payment_prob"
   ]
  },
  {
   "cell_type": "code",
   "execution_count": 78,
   "id": "e5ded2a9",
   "metadata": {},
   "outputs": [],
   "source": [
    "customer_will_make_default_payment = payment_prob >= 0.5"
   ]
  },
  {
   "cell_type": "code",
   "execution_count": 79,
   "id": "5df55624",
   "metadata": {},
   "outputs": [
    {
     "name": "stdout",
     "output_type": "stream",
     "text": [
      "Customer will NOT make the payment!\n"
     ]
    }
   ],
   "source": [
    "if customer_will_make_default_payment == 0:\n",
    "    print('Customer will NOT make the payment!')\n",
    "else:\n",
    "    print('Customer WILL make the payment!')"
   ]
  },
  {
   "cell_type": "code",
   "execution_count": 80,
   "id": "f42a9d0d",
   "metadata": {},
   "outputs": [
    {
     "data": {
      "text/plain": [
       "array([0, 1, 0, 1, 0, 0, 0, 0, 0, 0, 0])"
      ]
     },
     "execution_count": 80,
     "metadata": {},
     "output_type": "execute_result"
    }
   ],
   "source": [
    "y_test[0:11]"
   ]
  },
  {
   "cell_type": "code",
   "execution_count": 81,
   "id": "d75498f9",
   "metadata": {},
   "outputs": [
    {
     "data": {
      "text/plain": [
       "0"
      ]
     },
     "execution_count": 81,
     "metadata": {},
     "output_type": "execute_result"
    }
   ],
   "source": [
    "y_test[14]"
   ]
  },
  {
   "cell_type": "code",
   "execution_count": 94,
   "id": "97975c0b",
   "metadata": {},
   "outputs": [
    {
     "ename": "TypeError",
     "evalue": "only integer scalar arrays can be converted to a scalar index",
     "output_type": "error",
     "traceback": [
      "\u001b[1;31m---------------------------------------------------------------------------\u001b[0m",
      "\u001b[1;31mTypeError\u001b[0m                                 Traceback (most recent call last)",
      "\u001b[1;32m~\\AppData\\Local\\Temp/ipykernel_616/3453940663.py\u001b[0m in \u001b[0;36m<module>\u001b[1;34m\u001b[0m\n\u001b[1;32m----> 1\u001b[1;33m \u001b[0my_pred\u001b[0m\u001b[1;33m.\u001b[0m\u001b[0many\u001b[0m\u001b[1;33m(\u001b[0m\u001b[0my_pred\u001b[0m \u001b[1;33m>\u001b[0m\u001b[1;36m0.5\u001b[0m\u001b[1;33m)\u001b[0m\u001b[1;33m\u001b[0m\u001b[1;33m\u001b[0m\u001b[0m\n\u001b[0m",
      "\u001b[1;32m~\\anaconda3\\envs\\keras_env\\lib\\site-packages\\numpy\\core\\_methods.py\u001b[0m in \u001b[0;36m_any\u001b[1;34m(a, axis, dtype, out, keepdims, where)\u001b[0m\n\u001b[0;32m     55\u001b[0m     \u001b[1;31m# Parsing keyword arguments is currently fairly slow, so avoid it for now\u001b[0m\u001b[1;33m\u001b[0m\u001b[1;33m\u001b[0m\u001b[1;33m\u001b[0m\u001b[0m\n\u001b[0;32m     56\u001b[0m     \u001b[1;32mif\u001b[0m \u001b[0mwhere\u001b[0m \u001b[1;32mis\u001b[0m \u001b[1;32mTrue\u001b[0m\u001b[1;33m:\u001b[0m\u001b[1;33m\u001b[0m\u001b[1;33m\u001b[0m\u001b[0m\n\u001b[1;32m---> 57\u001b[1;33m         \u001b[1;32mreturn\u001b[0m \u001b[0mumr_any\u001b[0m\u001b[1;33m(\u001b[0m\u001b[0ma\u001b[0m\u001b[1;33m,\u001b[0m \u001b[0maxis\u001b[0m\u001b[1;33m,\u001b[0m \u001b[0mdtype\u001b[0m\u001b[1;33m,\u001b[0m \u001b[0mout\u001b[0m\u001b[1;33m,\u001b[0m \u001b[0mkeepdims\u001b[0m\u001b[1;33m)\u001b[0m\u001b[1;33m\u001b[0m\u001b[1;33m\u001b[0m\u001b[0m\n\u001b[0m\u001b[0;32m     58\u001b[0m     \u001b[1;32mreturn\u001b[0m \u001b[0mumr_any\u001b[0m\u001b[1;33m(\u001b[0m\u001b[0ma\u001b[0m\u001b[1;33m,\u001b[0m \u001b[0maxis\u001b[0m\u001b[1;33m,\u001b[0m \u001b[0mdtype\u001b[0m\u001b[1;33m,\u001b[0m \u001b[0mout\u001b[0m\u001b[1;33m,\u001b[0m \u001b[0mkeepdims\u001b[0m\u001b[1;33m,\u001b[0m \u001b[0mwhere\u001b[0m\u001b[1;33m=\u001b[0m\u001b[0mwhere\u001b[0m\u001b[1;33m)\u001b[0m\u001b[1;33m\u001b[0m\u001b[1;33m\u001b[0m\u001b[0m\n\u001b[0;32m     59\u001b[0m \u001b[1;33m\u001b[0m\u001b[0m\n",
      "\u001b[1;31mTypeError\u001b[0m: only integer scalar arrays can be converted to a scalar index"
     ]
    }
   ],
   "source": [
    "y_pred > 0.5"
   ]
  },
  {
   "cell_type": "code",
   "execution_count": 87,
   "id": "344d3dcc",
   "metadata": {},
   "outputs": [],
   "source": [
    "# test for a range for users\n",
    "def get_predictions(from_i, to_i):\n",
    "    if(from_i > to_i):\n",
    "        print('first argument must be greater then the first')\n",
    "        return\n",
    "    for i in range(from_i, to_i + 1):\n",
    "        print(\"================================\")\n",
    "        \n",
    "        customer = test_dict[selected_user]\n",
    "        X_one_person = dv.transform([customer])\n",
    "        \n",
    "        payment_prob = model.predict_proba(X_one_person)[0,1]\n",
    "        customer_will_default = payment_prob >= 0.5\n",
    "        \n",
    "        if customer_will_default == 0:\n",
    "            print('Predicted: Customer {} will NOT default!'.format(i))\n",
    "        else:\n",
    "            print('Predicted: Customer {} WILL default!'.format(i))\n",
    "        \n",
    "        if y_test[i] == 0:\n",
    "            print('The truth is: Customer {} will NOT default!'.format(i))\n",
    "        else:\n",
    "            print('The truth is: Customer {} WILL default!'.format(i))\n"
   ]
  },
  {
   "cell_type": "code",
   "execution_count": 90,
   "id": "5c01c091",
   "metadata": {},
   "outputs": [
    {
     "name": "stdout",
     "output_type": "stream",
     "text": [
      "================================\n",
      "Predicted: Customer 40 will NOT default!\n",
      "The truth is: Customer 40 will NOT default!\n",
      "================================\n",
      "Predicted: Customer 41 will NOT default!\n",
      "The truth is: Customer 41 will NOT default!\n",
      "================================\n",
      "Predicted: Customer 42 will NOT default!\n",
      "The truth is: Customer 42 will NOT default!\n",
      "================================\n",
      "Predicted: Customer 43 will NOT default!\n",
      "The truth is: Customer 43 will NOT default!\n",
      "================================\n",
      "Predicted: Customer 44 will NOT default!\n",
      "The truth is: Customer 44 will NOT default!\n",
      "================================\n",
      "Predicted: Customer 45 will NOT default!\n",
      "The truth is: Customer 45 will NOT default!\n",
      "================================\n",
      "Predicted: Customer 46 will NOT default!\n",
      "The truth is: Customer 46 will NOT default!\n",
      "================================\n",
      "Predicted: Customer 47 will NOT default!\n",
      "The truth is: Customer 47 will NOT default!\n",
      "================================\n",
      "Predicted: Customer 48 will NOT default!\n",
      "The truth is: Customer 48 will NOT default!\n",
      "================================\n",
      "Predicted: Customer 49 will NOT default!\n",
      "The truth is: Customer 49 will NOT default!\n",
      "================================\n",
      "Predicted: Customer 50 will NOT default!\n",
      "The truth is: Customer 50 will NOT default!\n"
     ]
    }
   ],
   "source": [
    "get_predictions(40, 50)"
   ]
  },
  {
   "cell_type": "code",
   "execution_count": 84,
   "id": "57ac522b",
   "metadata": {},
   "outputs": [
    {
     "data": {
      "text/plain": [
       "0.5033684902294288"
      ]
     },
     "execution_count": 84,
     "metadata": {},
     "output_type": "execute_result"
    }
   ],
   "source": [
    "roc_auc_score(y_val, y_pred)"
   ]
  },
  {
   "cell_type": "code",
   "execution_count": 1,
   "id": "de7332e2",
   "metadata": {},
   "outputs": [],
   "source": [
    "import pickle"
   ]
  },
  {
   "cell_type": "code",
   "execution_count": 87,
   "id": "a09c8d94",
   "metadata": {},
   "outputs": [
    {
     "data": {
      "text/plain": [
       "'model_C=1.0.bin'"
      ]
     },
     "execution_count": 87,
     "metadata": {},
     "output_type": "execute_result"
    }
   ],
   "source": [
    "output_file = 'model_C=1.0.bin'\n",
    "output_file"
   ]
  },
  {
   "cell_type": "code",
   "execution_count": 88,
   "id": "1a958df8",
   "metadata": {},
   "outputs": [],
   "source": [
    "with open(output_file, 'wb') as f_out:\n",
    "    pickle.dump((dv, model), f_out)"
   ]
  },
  {
   "cell_type": "code",
   "execution_count": 2,
   "id": "bba764b9",
   "metadata": {},
   "outputs": [],
   "source": [
    "model_file = 'model_C=1.0.bin'"
   ]
  },
  {
   "cell_type": "code",
   "execution_count": 3,
   "id": "f799ffdc",
   "metadata": {},
   "outputs": [],
   "source": [
    "with open(model_file, 'rb') as f_in:\n",
    "    dv, model = pickle.load(f_in)"
   ]
  },
  {
   "cell_type": "code",
   "execution_count": 4,
   "id": "e18c0389",
   "metadata": {},
   "outputs": [
    {
     "data": {
      "text/plain": [
       "(DictVectorizer(sparse=False),\n",
       " LogisticRegression(max_iter=1000, solver='liblinear'))"
      ]
     },
     "execution_count": 4,
     "metadata": {},
     "output_type": "execute_result"
    }
   ],
   "source": [
    "dv, model"
   ]
  },
  {
   "cell_type": "code",
   "execution_count": 5,
   "id": "6105ff15",
   "metadata": {},
   "outputs": [],
   "source": [
    "customer = {'sex': 'male',\n",
    " 'education': 'university',\n",
    " 'marriage': 'married',\n",
    " 'pay_0': 'unk',\n",
    " 'pay_2': 'unk',\n",
    " 'pay_3': 'unk',\n",
    " 'pay_4': 'unk',\n",
    " 'pay_5': 'unk',\n",
    " 'pay_6': 'unk',\n",
    " 'limit_bal': 310000,\n",
    " 'age': 29,\n",
    " 'bill_amt1': 182202,\n",
    " 'bill_amt2': 162547,\n",
    " 'bill_amt3': 140911,\n",
    " 'bill_amt4': 111881,\n",
    " 'bill_amt5': 78759,\n",
    " 'bill_amt6': 78877,\n",
    " 'pay_amt1': 5118,\n",
    " 'pay_amt2': 3758,\n",
    " 'pay_amt3': 3901,\n",
    " 'pay_amt4': 2206,\n",
    " 'pay_amt5': 3089,\n",
    " 'pay_amt6': 3023}"
   ]
  },
  {
   "cell_type": "code",
   "execution_count": 6,
   "id": "b0fff67d",
   "metadata": {},
   "outputs": [],
   "source": [
    "X= dv.transform([customer])"
   ]
  },
  {
   "cell_type": "code",
   "execution_count": 7,
   "id": "29432f8c",
   "metadata": {},
   "outputs": [
    {
     "data": {
      "text/plain": [
       "0.1508081989037068"
      ]
     },
     "execution_count": 7,
     "metadata": {},
     "output_type": "execute_result"
    }
   ],
   "source": [
    "model.predict_proba(X)[0,1]"
   ]
  },
  {
   "cell_type": "code",
   "execution_count": null,
   "id": "486d3b5a",
   "metadata": {},
   "outputs": [],
   "source": []
  }
 ],
 "metadata": {
  "kernelspec": {
   "display_name": "Python 3 (ipykernel)",
   "language": "python",
   "name": "python3"
  },
  "language_info": {
   "codemirror_mode": {
    "name": "ipython",
    "version": 3
   },
   "file_extension": ".py",
   "mimetype": "text/x-python",
   "name": "python",
   "nbconvert_exporter": "python",
   "pygments_lexer": "ipython3",
   "version": "3.10.0"
  },
  "vscode": {
   "interpreter": {
    "hash": "df95319d8ce4e1d89f5365ae10992bc1f65da593082b1d264e8f529830ec2f02"
   }
  }
 },
 "nbformat": 4,
 "nbformat_minor": 5
}
